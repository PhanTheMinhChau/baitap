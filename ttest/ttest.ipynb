{
  "nbformat": 4,
  "nbformat_minor": 0,
  "metadata": {
    "colab": {
      "name": "ttest.ipynb",
      "provenance": [],
      "include_colab_link": true
    },
    "kernelspec": {
      "name": "python3",
      "display_name": "Python 3"
    },
    "language_info": {
      "name": "python"
    }
  },
  "cells": [
    {
      "cell_type": "markdown",
      "metadata": {
        "id": "view-in-github",
        "colab_type": "text"
      },
      "source": [
        "<a href=\"https://colab.research.google.com/github/PhanTheMinhChau/baitap/blob/master/ttest/ttest.ipynb\" target=\"_parent\"><img src=\"https://colab.research.google.com/assets/colab-badge.svg\" alt=\"Open In Colab\"/></a>"
      ]
    },
    {
      "cell_type": "code",
      "metadata": {
        "colab": {
          "base_uri": "https://localhost:8080/"
        },
        "id": "xHuRDtKIxksS",
        "outputId": "09c9cedc-2ee6-4fbf-fe14-7bd3048dcc3a"
      },
      "source": [
        "import numpy as np\n",
        "import pandas as pd\n",
        "import random\n",
        "from scipy import stats\n",
        "from statsmodels.stats.weightstats import ttest_ind\n",
        "import warnings\n",
        "import matplotlib.pyplot as plt\n",
        "import seaborn as sns\n",
        "from scipy import stats as st\n",
        "%matplotlib inline"
      ],
      "execution_count": null,
      "outputs": [
        {
          "output_type": "stream",
          "text": [
            "/usr/local/lib/python3.7/dist-packages/statsmodels/tools/_testing.py:19: FutureWarning: pandas.util.testing is deprecated. Use the functions in the public API at pandas.testing instead.\n",
            "  import pandas.util.testing as tm\n"
          ],
          "name": "stderr"
        }
      ]
    },
    {
      "cell_type": "code",
      "metadata": {
        "id": "apKvScHOxpVS"
      },
      "source": [
        "sns.set(rc={'figure.figsize':(13, 7.5)})\n",
        "sns.set_context('talk')"
      ],
      "execution_count": null,
      "outputs": []
    },
    {
      "cell_type": "code",
      "metadata": {
        "id": "BJmmEgPfxv7A"
      },
      "source": [
        "\n",
        "#Tắt các cảnh báo của scipy\n",
        "warnings.filterwarnings('ignore')"
      ],
      "execution_count": null,
      "outputs": []
    },
    {
      "cell_type": "markdown",
      "metadata": {
        "id": "8oDS0Hipxw1A"
      },
      "source": [
        "Một số lưu ý khi kiểm định giả thuyết trong thống kê suy diễn (1) Cỡ mẫu thường phải đủ lớn ( n < 30 ) để có ý nghĩa thống kê\n",
        "\n",
        "(2) Các mẫu quan sát được (sample observations) phải được lựa chọn ngẫu nhiên từ quần thể\n",
        "\n",
        "(3) Các đại lượng như trung bình mẫu (sample mean), độ lệch chuẩn của mẫu (standard deviation), phương sai mẫu (sample variance) được tính từ tập mẫu quan sát được.\n",
        "\n",
        "(4) Giả định rằng quần thể được nghiên cứu lấy mẫu xấp xỉ với phân phối chuẩn.\n",
        "\n",
        "Các bước thực hiện kiểm định giả thuyết (sử dụng kiểm định z) Bước 1: Thực hiện các phép đo, hay thu thập dữ liệu quan sát\n",
        "\n",
        "Bước 2: Phát biểu giả thuyết H0 và giả thuyết thay thế Ha\n",
        "\n",
        "Bước 3: Xác định mức α (hay khoảng tin cậy)\n",
        "\n",
        "Bước 4: Lấy mẫu và tính toán các đại lượng thống kê của mẫu\n",
        "\n",
        "Bước 5: Thực hiện kiểm định t (t-test)\n",
        "\n",
        "Bước 6: Kết luận dựa vào kết quả kiểm định\n",
        "\n",
        "KIỂM ĐỊNH GIẢ THUYẾT MỘT ĐUÔI\n",
        "\n",
        "Kỹ thuật sinh dữ liệu ngẫu nhiên Sinh các mẫu ngẫu nhiên lấy ra từ phân phối chuẩn bằng hàm random.normal() với các tham số:\n",
        "\n",
        "mean: giá trị trung bình của quần thể\n",
        "\n",
        "scale: độ lệch chuẩn của quần thể (không âm)\n",
        "\n",
        "size: kích thước mẫu"
      ]
    },
    {
      "cell_type": "code",
      "metadata": {
        "id": "jWBhR7M8x4Bg"
      },
      "source": [
        "#Sinh ngẫu nhiên 30 mẫu tuân theo phân phối chuẩn có trung bình mẫu là 1 và độ lệch chuẩn là 0.1\n",
        "mean = 1\n",
        "std = 0.1\n",
        "N = 30\n",
        "samples = np.random.normal(mean, std, N)"
      ],
      "execution_count": null,
      "outputs": []
    },
    {
      "cell_type": "code",
      "metadata": {
        "colab": {
          "base_uri": "https://localhost:8080/"
        },
        "id": "OkyCXaai012K",
        "outputId": "3245e0e2-2b89-4536-9834-b2575f1154b8"
      },
      "source": [
        "#In ra 10 phần tử đầu tiên\n",
        "print(samples[:10])"
      ],
      "execution_count": null,
      "outputs": [
        {
          "output_type": "stream",
          "text": [
            "[1.14940101 1.1538551  0.77262181 0.88204277 1.01463765 1.13535559\n",
            " 0.99912723 0.93989227 0.96107441 1.18873894]\n"
          ],
          "name": "stdout"
        }
      ]
    },
    {
      "cell_type": "code",
      "metadata": {
        "colab": {
          "base_uri": "https://localhost:8080/"
        },
        "id": "JameJbFG1tRY",
        "outputId": "341a7f34-4731-4c2e-cfa6-41faee5a625e"
      },
      "source": [
        "\n",
        "#In ra các giá trị max, min của samples\n",
        "print('Max: ', max(samples))\n",
        "print('Min: ', min(samples))"
      ],
      "execution_count": null,
      "outputs": [
        {
          "output_type": "stream",
          "text": [
            "Max:  1.1887389437701317\n",
            "Min:  0.7726218073743712\n"
          ],
          "name": "stdout"
        }
      ]
    },
    {
      "cell_type": "code",
      "metadata": {
        "colab": {
          "base_uri": "https://localhost:8080/",
          "height": 486
        },
        "id": "Vr0RMSW37At_",
        "outputId": "a1111aa3-3a52-48f7-932d-927a5b959f21"
      },
      "source": [
        "#Vẽ histogram của mẫu mới sinh ra ( có đường phân phối chuẩn và số mean)\n",
        "plot_distribution(samples)"
      ],
      "execution_count": null,
      "outputs": [
        {
          "output_type": "execute_result",
          "data": {
            "text/plain": [
              "<function matplotlib.pyplot.figure>"
            ]
          },
          "metadata": {
            "tags": []
          },
          "execution_count": 9
        },
        {
          "output_type": "display_data",
          "data": {
            "image/png": "[encoded data removed]",
            "text/plain": [
              "<Figure size 936x540 with 1 Axes>"
            ]
          },
          "metadata": {
            "tags": []
          }
        }
      ]
    },
    {
      "cell_type": "code",
      "metadata": {
        "colab": {
          "base_uri": "https://localhost:8080/",
          "height": 533
        },
        "id": "2R55jH-Q98XA",
        "outputId": "b7573948-797b-4056-907e-3f7a0d0622a7"
      },
      "source": [
        "#Sinh ngẫu nhiên 6000 mẫu theo phân phối chuẩn có mean = 0 và std = 10\n",
        "samples = np.random.normal(loc=0, scale=10, size=6000)\n",
        "#Minh họa một đuôi và mức alpha = 0.05\n",
        "two_std_from_mean = np.mean(samples) + np.std(samples)*1.645\n",
        "#kernel density\n",
        "kde = stats.gaussian_kde(samples)\n",
        "#Trả về 10000 giá trị phân bố bằng nhau trong khoảng từ min tới max của samples \n",
        "pos = np.linspace(np.min(samples), np.max(samples), 10000)\n",
        "plt.plot(pos, kde(pos), color='teal')\n",
        "shade = np.linspace(two_std_from_mean, 40, 300)\n",
        "plt.fill_between(shade, kde(shade), alpha=0.45, color='teal')\n",
        "plt.title(\"Phân phối mẫu của kiểm định giả thuyết 1 đuôi\", y=1.015, fontsize=20)\n",
        "plt.xlabel(\"giá trị trung bình mẫu\", labelpad=14)\n",
        "plt.ylabel(\"tần suất xuất hiện\", labelpad=14);"
      ],
      "execution_count": null,
      "outputs": [
        {
          "output_type": "display_data",
          "data": {
            "image/png": "[encoded data removed]",
            "text/plain": [
              "<Figure size 936x540 with 1 Axes>"
            ]
          },
          "metadata": {
            "tags": []
          }
        }
      ]
    },
    {
      "cell_type": "code",
      "metadata": {
        "colab": {
          "base_uri": "https://localhost:8080/",
          "height": 321
        },
        "id": "b_6i9asa-j62",
        "outputId": "e6a5b757-326c-43e7-b648-2a3a8a73646a"
      },
      "source": [
        "\n",
        "# Sử dụng hình minh họa\n",
        "from IPython.display import Image\n",
        "from IPython.core.display import HTML \n",
        "Image(url= \"https://media.geeksforgeeks.org/wp-content/uploads/20201028032933/Screenshot37.png\", width=300, height=300)"
      ],
      "execution_count": null,
      "outputs": [
        {
          "output_type": "execute_result",
          "data": {
            "text/html": [
              "<img src=\"https://media.geeksforgeeks.org/wp-content/uploads/20201028032933/Screenshot37.png\" width=\"300\" height=\"300\"/>"
            ],
            "text/plain": [
              "<IPython.core.display.Image object>"
            ]
          },
          "metadata": {
            "tags": []
          },
          "execution_count": 11
        }
      ]
    },
    {
      "cell_type": "code",
      "metadata": {
        "colab": {
          "base_uri": "https://localhost:8080/",
          "height": 321
        },
        "id": "5D38lhMK-sse",
        "outputId": "e6756102-5cad-48c8-e7fb-b163fb186732"
      },
      "source": [
        "Image(url= \"https://media.geeksforgeeks.org/wp-content/uploads/20201028032937/Screenshot39.png\", width=300, height=300)"
      ],
      "execution_count": null,
      "outputs": [
        {
          "output_type": "execute_result",
          "data": {
            "text/html": [
              "<img src=\"https://media.geeksforgeeks.org/wp-content/uploads/20201028032937/Screenshot39.png\" width=\"300\" height=\"300\"/>"
            ],
            "text/plain": [
              "<IPython.core.display.Image object>"
            ]
          },
          "metadata": {
            "tags": []
          },
          "execution_count": 12
        }
      ]
    },
    {
      "cell_type": "code",
      "metadata": {
        "colab": {
          "base_uri": "https://localhost:8080/",
          "height": 321
        },
        "id": "XyLoF5fl-uOe",
        "outputId": "5af5baaa-e442-4284-d629-0b17d2c0b229"
      },
      "source": [
        "Image(url= \"https://media.geeksforgeeks.org/wp-content/uploads/20201028032935/Screenshot38.png\", width=300, height=300)"
      ],
      "execution_count": null,
      "outputs": [
        {
          "output_type": "execute_result",
          "data": {
            "text/html": [
              "<img src=\"https://media.geeksforgeeks.org/wp-content/uploads/20201028032935/Screenshot38.png\" width=\"300\" height=\"300\"/>"
            ],
            "text/plain": [
              "<IPython.core.display.Image object>"
            ]
          },
          "metadata": {
            "tags": []
          },
          "execution_count": 13
        }
      ]
    },
    {
      "cell_type": "markdown",
      "metadata": {
        "id": "DFcu1NSYi7sg"
      },
      "source": [
        "Xây dựng một kiểm định t cụ thể với số liệu được sinh ngẫu nhiên theo phân phối chuẩn\n",
        "\n",
        "Bài toán: Cân thử 15 con gà tây ở 1 trại chăn nuôi khi xuất chuồng ta tính được $\\overline{\\rm x} = 3.62kg$. Cho biết σ = 0.1. Giám đốc trại tuyên bố trọng lương trung bình của gà tây là 3, 5kg thì có tin được không với mức ý nghĩa α =1%.\n",
        "\n",
        "Xây dựng giả thuyết\n",
        "\n",
        "$$H_{0}: \\mu = 3.5kg$$\n",
        "Giả thuyết thay thế:\n",
        "\n",
        "$$H_{a}: \\mu \\neq 3.5kg $$\n",
        "Giải:\n",
        "\n",
        "Với:\n",
        "\n",
        "sig = 0.01\n",
        "chỉ số t tương ứng = 2.58\n",
        "Công thức:$$Z = \\frac{(\\overline{\\rm X} - \\mu)}{(\\sigma / \\sqrt{n})}$$\n",
        "\n",
        "Áp dụng với các giá trị nêu trên:\n",
        "\n",
        "$\\overline{\\rm x} = 3.62kg$\n",
        "$\\mu = 3.5$\n",
        "$\\sigma = 0.1$\n",
        "$n = 15$\n",
        "$\\alpha = 0.01$\n",
        "$$t = \\frac{(3.62 - 3.5)}{(0.1 / \\sqrt{15})} = 4.6$$\n",
        "Giá trị t = 4.6 > 2.58 nên có bằng chứng để bác bỏ giả thuyết $H_{0}$\n",
        "\n",
        "Lập trình Python cho bài toán nêu trên"
      ]
    },
    {
      "cell_type": "code",
      "metadata": {
        "colab": {
          "base_uri": "https://localhost:8080/"
        },
        "id": "Nxkl6UKmi_ZQ",
        "outputId": "a6e1926c-8599-44ca-a735-8bbf6e015641"
      },
      "source": [
        "#Sinh ngẫu nhiên một mẫu 15 phần tử có trung bình mẫu là 3.62, độ lệch chuẩn là 0.1\n",
        "sample1 = np.random.normal(3.62, 0.1, 15)\n",
        "print(sample1)\n"
      ],
      "execution_count": null,
      "outputs": [
        {
          "output_type": "stream",
          "text": [
            "[3.50468151 3.68131841 3.61620536 3.73170724 3.50364734 3.61486989\n",
            " 3.58388589 3.77638809 3.5901509  3.49584931 3.62822153 3.66950748\n",
            " 3.71962778 3.59232454 3.61912205]\n"
          ],
          "name": "stdout"
        }
      ]
    },
    {
      "cell_type": "code",
      "metadata": {
        "id": "w0EBeBFDjzJf"
      },
      "source": [
        "#Xác định các thông số\n",
        "null_mean = 3.5\n",
        "alpha = 0.01"
      ],
      "execution_count": null,
      "outputs": []
    },
    {
      "cell_type": "code",
      "metadata": {
        "id": "sAH4KPlsj1O_"
      },
      "source": [
        "#Kiểm định t\n",
        "import statsmodels\n",
        "ttest, p_value = stats.ttest_1samp(sample1, null_mean)\n",
        "print('t = ', ttest, '; p = ', p_value)\n",
        "if(p_value <  alpha):\n",
        "  print(\"Có bằng chứng để bác bỏ giả thuyết H0\")\n",
        "else:\n",
        "  print(\"Chưa có bằng chứng để bác bỏ giả thuyết H0\")"
      ],
      "execution_count": null,
      "outputs": []
    },
    {
      "cell_type": "markdown",
      "metadata": {
        "id": "2punO56dkDvP"
      },
      "source": [
        "t =  5.011099258140954 ; p =  0.0001905540286073038\n",
        "\n",
        "Có bằng chứng để bác bỏ giả thuyết H0\n",
        "Kiểm định giả thuyết 2-đuôi\n",
        "\n",
        "Một cách tổng quát, giả sử chúng ta có 2 quần thể độc lập và tuân theo phân phối chuẩn. Lấy ra 2 mẫu ngẫu nhiên tử 2 quần thể này.\n",
        "\n",
        "Xây dựng giả thuyết:\n",
        "\n",
        "$$H_{0}: \\mu_{1} = \\mu_{2}$$\n",
        "Giả thuyết thay thế:\n",
        "\n",
        "$$H_{a}: \\mu_{1} \\neq \\mu_{2}$$\n",
        "Thực hiện kiểm định t và so sánh với giá trị $t_{\\frac{\\alpha}{2}}$ để đi đến kết luận cuối cùng.\n",
        "\n",
        "Bài Toán: Đo đường kính 20 trục máy do máy I sản xuất và 22 trục máy do máy II sản xuất ta tính được $\\overline{\\rm x_{1}} =251$, 7; $s_{1}$ = 52, 853 và $\\overline{\\rm x_{2}} =249.8$; $s_{1}$ = 56.2. Mức ý nghĩa 1%.\n",
        "\n",
        "Kiểm định t 2 đuôi"
      ]
    },
    {
      "cell_type": "code",
      "metadata": {
        "colab": {
          "base_uri": "https://localhost:8080/"
        },
        "id": "A6pkxcgnkFTI",
        "outputId": "3cf59a58-40a0-4805-80f3-3edaf6e437af"
      },
      "source": [
        "#Lập trình python minh họa\n",
        "#Sinh ngẫu nhiên sample 1 có 20 phần tử với mean = 251, std có hiệu chỉnh = 52,853\n",
        "samples_1 = np.random.normal(251, 52.853, 20)\n",
        "print(samples_1)"
      ],
      "execution_count": null,
      "outputs": [
        {
          "output_type": "stream",
          "text": [
            "[273.91181199 239.11444082 238.85895545 192.77205172 262.72183848\n",
            " 218.22653108 304.32981863 294.42597646 320.28615119 343.25324839\n",
            " 351.53845457 296.05169167 325.84311794 186.97814512 287.96704248\n",
            " 253.58089813 236.88017326 345.85191799 251.20997713 229.0243228 ]\n"
          ],
          "name": "stdout"
        }
      ]
    },
    {
      "cell_type": "code",
      "metadata": {
        "colab": {
          "base_uri": "https://localhost:8080/"
        },
        "id": "QYZrg_fPkOkn",
        "outputId": "fff2f7c2-aee9-4a6a-c42e-36f4e2420cf2"
      },
      "source": [
        "#Sinh ngẫu nhiên sample 2 có 22 phần tử với mean = 249.2 std = 56.2\n",
        "samples_2 = np.random.normal(249.2, 56.2, 22)\n",
        "print(samples_2)\n"
      ],
      "execution_count": null,
      "outputs": [
        {
          "output_type": "stream",
          "text": [
            "[322.54100086 262.86102591 230.02549549 225.99959648 214.08899749\n",
            " 254.59641988 259.29425965 260.36645852 245.35007983 263.71198266\n",
            " 230.94988307 312.19371517 222.32429153 195.31113677 170.87846998\n",
            " 295.05481521 239.06541327 321.31943243 229.30165305 282.29746735\n",
            " 255.40967171 244.78119987]\n"
          ],
          "name": "stdout"
        }
      ]
    },
    {
      "cell_type": "code",
      "metadata": {
        "id": "-INF5JAHkUg3"
      },
      "source": [
        "#Kiểm định giả thuyết\n",
        "#T-test cho phương tiện của hai mẫu độc lập từ thống kê mô tả. Từ bài toán trên\n",
        "alpha1 = 0.01\n",
        "ttest_score, p_value = stats.ttest_ind_from_stats(mean1 = 251, mean2 = 249.2, std1 = 52.853, std2 = 56.2, nobs1 = 20, nobs2 = 22)\n",
        "print('t = ', ttest_score, '; p = ', p_value)\n",
        "if(p_value <  alpha1):\n",
        "  print(\"Có bằng chứng để bác bỏ giả thuyết H0\")\n",
        "else:\n",
        "  print(\"Chưa có bằng chứng để bác bỏ giả thuyết H0\")"
      ],
      "execution_count": null,
      "outputs": []
    },
    {
      "cell_type": "markdown",
      "metadata": {
        "id": "RylaPkbDkVJX"
      },
      "source": [
        "t =  0.10663439652131487 ; p =  0.9156120538802968\n",
        "Chưa có bằng chứng để bác bỏ giả thuyết H0"
      ]
    },
    {
      "cell_type": "code",
      "metadata": {
        "id": "-mxUGtjFkW-P"
      },
      "source": [
        "\n",
        "#Kiểm định giả thuyết:\n",
        "#Tính toán kiểm tra T cho giá trị trung bình của hai mẫu điểm độc lập . \n",
        "alpha1 = 0.01\n",
        "ttest_score1, p_value1 = stats.ttest_ind(samples_1, samples_2, axis=0, equal_var=True, nan_policy='propagate')\n",
        "print('t_score = ', ttest_score1, '; p_value = ', p_value1)\n",
        "if(p_value <  alpha1):\n",
        "  print(\"Có bằng chứng để bác bỏ giả thuyết H0\")\n",
        "else:\n",
        "  print(\"Chưa có bằng chứng để bác bỏ giả thuyết H0\")"
      ],
      "execution_count": null,
      "outputs": []
    },
    {
      "cell_type": "markdown",
      "metadata": {
        "id": "G-OllhoEkY73"
      },
      "source": [
        "\n",
        "t_score =  -1.2406211660093507 ; p_value =  0.2219733708369456\n",
        "\n",
        "Chưa có bằng chứng để bác bỏ giả thuyết H0"
      ]
    }
  ]
}