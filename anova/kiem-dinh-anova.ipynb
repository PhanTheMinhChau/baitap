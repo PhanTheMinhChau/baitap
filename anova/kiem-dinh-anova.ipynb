{
  "nbformat": 4,
  "nbformat_minor": 0,
  "metadata": {
    "kernelspec": {
      "display_name": "Python 3",
      "language": "python",
      "name": "python3"
    },
    "language_info": {
      "codemirror_mode": {
        "name": "ipython",
        "version": 3
      },
      "file_extension": ".py",
      "mimetype": "text/x-python",
      "name": "python",
      "nbconvert_exporter": "python",
      "pygments_lexer": "ipython3",
      "version": "3.7.3"
    },
    "colab": {
      "name": "Bản sao của huong-dan-gia-dinh-ANOVA.ipynb",
      "provenance": [],
      "include_colab_link": true
    }
  },
  "cells": [
    {
      "cell_type": "markdown",
      "metadata": {
        "id": "view-in-github",
        "colab_type": "text"
      },
      "source": [
        "<a href=\"https://colab.research.google.com/github/PhanTheMinhChau/baitap/blob/main/anova/kiem-dinh-anova.ipynb\" target=\"_parent\"><img src=\"https://colab.research.google.com/assets/colab-badge.svg\" alt=\"Open In Colab\"/></a>"
      ]
    },
    {
      "cell_type": "markdown",
      "metadata": {
        "id": "IcDtJ5Bh3v9R"
      },
      "source": [
        "PHÂN TÍCH ANOVA MỘT CHIỀU\n",
        "\n",
        "Phân tích ANOVA chấp nhận các giả định sau:\n",
        "\n",
        "(1) Tất cả các nhóm đều độc lập với nhau\n",
        "\n",
        "(2) Dữ liệu của mỗi nhóm đều tuân theo phân phối chuẩn. Tính chất này có thể được kiểm định bằng phương pháp Shapiro-Wilks.\n",
        "\n",
        "(3) Phương sai (variance) của các nhóm bằng nhau. Tính chất này có thể được kiểm định bằng phương pháp kiểm định Bartlett hay Levene.\n",
        "\n",
        "Nếu dữ liệu hiện có thỏa mãn các tính chất trên thì chúng ta mới tiến hành kiểm định ANOVA. Do vậy trước khi tiến hành kiểm định ANOVA, chúng ta cần thực hiện kiểm tra tập dữ liệu cần thỏa mãn 3 tính chất trên.\n",
        "    "
      ]
    },
    {
      "cell_type": "code",
      "metadata": {
        "id": "4pgeDjhK39eT"
      },
      "source": [
        "\n",
        "from scipy import stats as st\n",
        "import numpy as np\n",
        "import pandas as pd\n",
        "from scipy.stats import bartlett"
      ],
      "execution_count": null,
      "outputs": []
    },
    {
      "cell_type": "code",
      "metadata": {
        "id": "vWbEsZ9y3v9T",
        "colab": {
          "base_uri": "https://localhost:8080/"
        },
        "outputId": "603c5d51-d774-4971-fd0a-bc5bc4986b57"
      },
      "source": [
        "#Bước 1: Hãy tạo một tập dữ liệu mẫu sample_1 với kích thước 100 tuân theo phân phối chuẩn, std = 2, mean = 15\n",
        "sample_1 =  stats.norm.rvs(loc = 15, scale = 2, size = 100)\n",
        "print(sample_1[:10])"
      ],
      "execution_count": null,
      "outputs": [
        {
          "output_type": "stream",
          "text": [
            "[15.77960624 12.79580879 16.09696371 12.59255426 17.20793646 14.41400408\n",
            " 17.05618578 16.6445358  14.68753509 11.04717924]\n"
          ],
          "name": "stdout"
        }
      ]
    },
    {
      "cell_type": "code",
      "metadata": {
        "id": "gnA9BmuY3v9U",
        "colab": {
          "base_uri": "https://localhost:8080/"
        },
        "outputId": "f5801f72-8e80-474b-cad3-4a9e7e109874"
      },
      "source": [
        "#Bước 2: hãy tạo tập dữ liệu mẫu sample_2 với kích thước 100 tuân theo phân phối Poisson\n",
        "sample_2 = stats.poisson.rvs(loc = 17, mu = 2, size=1000)\n",
        "print(sample_2[:10])"
      ],
      "execution_count": null,
      "outputs": [
        {
          "output_type": "stream",
          "text": [
            "[19 17 19 19 17 21 18 19 20 22]\n"
          ],
          "name": "stdout"
        }
      ]
    },
    {
      "cell_type": "markdown",
      "metadata": {
        "id": "-_LwgmjH3v9U"
      },
      "source": [
        "Hãy tham khảo các hướng dẫn sau để kiểm định tính chất thứ 2 bằng phương pháp Shapiro-Wilks đối với sample_1 và sample_2\n",
        "\n",
        "(1) [Tài liệu tham khảo scipy](https://docs.scipy.org/doc/scipy/reference/generated/scipy.stats.shapiro.html)\n",
        "\n",
        "(2) [Hướng dẫn cụ thể của statology](https://www.statology.org/shapiro-wilk-test-python/)"
      ]
    },
    {
      "cell_type": "code",
      "metadata": {
        "id": "LATfW5Ri3v9U",
        "colab": {
          "base_uri": "https://localhost:8080/"
        },
        "outputId": "83453e87-4bf8-4ec1-846d-6f24118b0309"
      },
      "source": [
        "\n",
        "#Code kiểm định tính chất thứ 2 của sample_1 và sample_2\n",
        "# thử nghiệm Shapiro-Wilk để xác định xem một mẫu có đến từ phân phối chuẩn hay không.\n",
        "print(\"Thử nghiệm Shapiro-Wilk tuân theo phân phối chuẩn\")\n",
        "shapiro_test1 = stats.shapiro(sample_1) \n",
        "print(\"Statistic =\", shapiro_test1[0], \"\\n\",\n",
        "      \"p value =\", shapiro_test1[1])\n",
        "print(\"-----------------------------------------\")\n",
        "\n",
        "print(\"Thử nghiệm Shapiro-Wilk tuân theo phân phối Poisson\")\n",
        "shapiro_test2 = stats.shapiro(sample_2)\n",
        "print(\"Statistic =\", shapiro_test2[0], \"\\n\",\n",
        "      \"p value =\", shapiro_test2[1])"
      ],
      "execution_count": null,
      "outputs": [
        {
          "output_type": "stream",
          "text": [
            "Thử nghiệm Shapiro-Wilk tuân theo phân phối chuẩn\n",
            "Statistic = 0.9778333902359009 \n",
            " p value = 0.08999329060316086\n",
            "-----------------------------------------\n",
            "Thử nghiệm Shapiro-Wilk tuân theo phân phối Poisson\n",
            "Statistic = 0.9205647706985474 \n",
            " p value = 1.6192233409035941e-22\n"
          ],
          "name": "stdout"
        }
      ]
    },
    {
      "cell_type": "markdown",
      "metadata": {
        "id": "enuUK3v53v9V"
      },
      "source": [
        "Hãy tham khảo các hướng dẫn sau để kiểm định tính chất thứ 3 bằng kiểm định Bartlett hoặc kiểm định Levene\n",
        "\n",
        "(1) [Hướng dẫn tổng quát](https://www.marsja.se/levenes-bartletts-test-of-equality-homogeneity-of-variance-in-python/)\n",
        "\n",
        "(2) [Hướng dẫn ở stackoverflow](https://stackoverflow.com/questions/36141254/how-to-test-for-homoscedasticity-having-the-same-population-variance-in-python)\n",
        "\n",
        "(3) Sử dụng bài giảng về kiểm định Bartlett và Levene ở buổi trước"
      ]
    },
    {
      "cell_type": "code",
      "metadata": {
        "id": "BmvybsZw3v9V",
        "colab": {
          "base_uri": "https://localhost:8080/",
          "height": 419
        },
        "outputId": "62ceb1b3-7fec-4128-e2f9-df80408e1944"
      },
      "source": [
        "# Ví dụ:\n",
        "np.random.seed(1000)\n",
        "\n",
        "majors =   [\"Business\",\"English\",\"Mathematics\",\"Psychology\"]\n",
        "\n",
        "# Generate random data\n",
        "maj = np.random.choice(a= majors,\n",
        "                              p = [0.25,0.25,0.25,0.25],\n",
        "                              size= 35*4)\n",
        "\n",
        "frus = stats.poisson.rvs(loc=18,\n",
        "                              mu=30,\n",
        "                              size=35*4)\n",
        "\n",
        "# Group data by major\n",
        "df3 = pd.DataFrame({\"major\":maj,\"frus\":frus})\n",
        "df3"
      ],
      "execution_count": null,
      "outputs": [
        {
          "output_type": "execute_result",
          "data": {
            "text/html": [
              "<div>\n",
              "<style scoped>\n",
              "    .dataframe tbody tr th:only-of-type {\n",
              "        vertical-align: middle;\n",
              "    }\n",
              "\n",
              "    .dataframe tbody tr th {\n",
              "        vertical-align: top;\n",
              "    }\n",
              "\n",
              "    .dataframe thead th {\n",
              "        text-align: right;\n",
              "    }\n",
              "</style>\n",
              "<table border=\"1\" class=\"dataframe\">\n",
              "  <thead>\n",
              "    <tr style=\"text-align: right;\">\n",
              "      <th></th>\n",
              "      <th>major</th>\n",
              "      <th>frus</th>\n",
              "    </tr>\n",
              "  </thead>\n",
              "  <tbody>\n",
              "    <tr>\n",
              "      <th>0</th>\n",
              "      <td>Mathematics</td>\n",
              "      <td>50</td>\n",
              "    </tr>\n",
              "    <tr>\n",
              "      <th>1</th>\n",
              "      <td>Business</td>\n",
              "      <td>48</td>\n",
              "    </tr>\n",
              "    <tr>\n",
              "      <th>2</th>\n",
              "      <td>Psychology</td>\n",
              "      <td>45</td>\n",
              "    </tr>\n",
              "    <tr>\n",
              "      <th>3</th>\n",
              "      <td>English</td>\n",
              "      <td>56</td>\n",
              "    </tr>\n",
              "    <tr>\n",
              "      <th>4</th>\n",
              "      <td>Psychology</td>\n",
              "      <td>45</td>\n",
              "    </tr>\n",
              "    <tr>\n",
              "      <th>...</th>\n",
              "      <td>...</td>\n",
              "      <td>...</td>\n",
              "    </tr>\n",
              "    <tr>\n",
              "      <th>135</th>\n",
              "      <td>Psychology</td>\n",
              "      <td>56</td>\n",
              "    </tr>\n",
              "    <tr>\n",
              "      <th>136</th>\n",
              "      <td>Mathematics</td>\n",
              "      <td>53</td>\n",
              "    </tr>\n",
              "    <tr>\n",
              "      <th>137</th>\n",
              "      <td>Psychology</td>\n",
              "      <td>57</td>\n",
              "    </tr>\n",
              "    <tr>\n",
              "      <th>138</th>\n",
              "      <td>Business</td>\n",
              "      <td>44</td>\n",
              "    </tr>\n",
              "    <tr>\n",
              "      <th>139</th>\n",
              "      <td>Mathematics</td>\n",
              "      <td>49</td>\n",
              "    </tr>\n",
              "  </tbody>\n",
              "</table>\n",
              "<p>140 rows × 2 columns</p>\n",
              "</div>"
            ],
            "text/plain": [
              "           major  frus\n",
              "0    Mathematics    50\n",
              "1       Business    48\n",
              "2     Psychology    45\n",
              "3        English    56\n",
              "4     Psychology    45\n",
              "..           ...   ...\n",
              "135   Psychology    56\n",
              "136  Mathematics    53\n",
              "137   Psychology    57\n",
              "138     Business    44\n",
              "139  Mathematics    49\n",
              "\n",
              "[140 rows x 2 columns]"
            ]
          },
          "metadata": {
            "tags": []
          },
          "execution_count": 14
        }
      ]
    },
    {
      "cell_type": "code",
      "metadata": {
        "id": "dn46rotO3v9V",
        "colab": {
          "base_uri": "https://localhost:8080/"
        },
        "outputId": "96a4de18-e737-41ca-b57c-c6e8b37215df"
      },
      "source": [
        "# Phân nhóm dữ liệu:\n",
        "groups = df3.groupby(\"major\").groups\n",
        "# Etract individual groups\n",
        "business = frus[groups[\"Business\"]]\n",
        "eng = frus[groups[\"English\"]]\n",
        "math = frus[groups[\"Mathematics\"]]\n",
        "psy = frus[groups[\"Psychology\"]]\n",
        "groups"
      ],
      "execution_count": null,
      "outputs": [
        {
          "output_type": "execute_result",
          "data": {
            "text/plain": [
              "{'Business': [1, 5, 6, 8, 10, 13, 15, 20, 25, 32, 33, 34, 35, 39, 41, 44, 47, 48, 53, 57, 58, 59, 61, 69, 79, 86, 88, 99, 100, 102, 107, 116, 122, 131, 132, 138], 'English': [3, 7, 12, 19, 22, 24, 37, 40, 43, 49, 51, 56, 60, 64, 65, 70, 71, 74, 75, 80, 84, 89, 91, 93, 97, 111, 112, 113, 115, 118, 123, 124, 127, 128], 'Mathematics': [0, 11, 14, 23, 27, 29, 36, 42, 50, 52, 54, 55, 62, 63, 66, 72, 73, 77, 82, 85, 87, 92, 95, 96, 98, 104, 105, 109, 110, 120, 121, 125, 133, 134, 136, 139], 'Psychology': [2, 4, 9, 16, 17, 18, 21, 26, 28, 30, 31, 38, 45, 46, 67, 68, 76, 78, 81, 83, 90, 94, 101, 103, 106, 108, 114, 117, 119, 126, 129, 130, 135, 137]}"
            ]
          },
          "metadata": {
            "tags": []
          },
          "execution_count": 15
        }
      ]
    },
    {
      "cell_type": "code",
      "metadata": {
        "colab": {
          "base_uri": "https://localhost:8080/"
        },
        "id": "htMcVSUv7VNC",
        "outputId": "beca8fe3-b395-41ce-9193-d0254605c1df"
      },
      "source": [
        "# Phương sai mỗi nhóm:\n",
        "[np.var(x, ddof=1) for x in [business, eng, math, psy]]"
      ],
      "execution_count": null,
      "outputs": [
        {
          "output_type": "execute_result",
          "data": {
            "text/plain": [
              "[51.12063492063492, 25.5445632798574, 38.36825396825396, 30.168449197860966]"
            ]
          },
          "metadata": {
            "tags": []
          },
          "execution_count": 16
        }
      ]
    },
    {
      "cell_type": "code",
      "metadata": {
        "colab": {
          "base_uri": "https://localhost:8080/"
        },
        "id": "aZS4Lhn67Xih",
        "outputId": "9f225db9-721c-4e60-8909-1716053b1960"
      },
      "source": [
        "# Kiểm định Bartlett - Kiểm định tính đồng nhất của các phương sai:\n",
        "bartlett_test = st.bartlett(business, eng, math, psy)\n",
        "print(bartlett_test)\n",
        "bartlettvalue,pvalue=bartlett_test\n",
        "if (bartlettvalue > 0) and (pvalue < alpha):\n",
        "    print('Phương sai các nhóm bằng nhau.')\n",
        "else:\n",
        "    print('Phương sai các nhóm không bằng nhau.')"
      ],
      "execution_count": null,
      "outputs": [
        {
          "output_type": "stream",
          "text": [
            "BartlettResult(statistic=4.6512742950695385, pvalue=0.19918739015473022)\n",
            "Phương sai các nhóm không bằng nhau.\n"
          ],
          "name": "stdout"
        }
      ]
    },
    {
      "cell_type": "code",
      "metadata": {
        "colab": {
          "base_uri": "https://localhost:8080/"
        },
        "id": "m8geAGG87lQR",
        "outputId": "a305682e-8519-4e7c-fb58-6b3b34efd65a"
      },
      "source": [
        "\n",
        "# Kiểm định Levene - Kiểm tra bình đẳng các phương sai:\n",
        "levene_test = st.levene(business, eng, math, psy)\n",
        "print(levene_test)\n",
        "levenevalue,pvalue=levene_test\n",
        "if (levenevalue > 0) and (pvalue < alpha):\n",
        "    print('Phương sai các nhóm bằng nhau.')\n",
        "else:\n",
        "    print('Phương sai các nhóm không bằng nhau.')"
      ],
      "execution_count": null,
      "outputs": [
        {
          "output_type": "stream",
          "text": [
            "LeveneResult(statistic=1.320185643980964, pvalue=0.27042712192013624)\n",
            "Phương sai các nhóm không bằng nhau.\n"
          ],
          "name": "stdout"
        }
      ]
    }
  ]
}