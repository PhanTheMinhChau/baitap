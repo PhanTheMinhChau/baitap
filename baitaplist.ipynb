{
  "nbformat": 4,
  "nbformat_minor": 0,
  "metadata": {
    "colab": {
      "name": "baitaplist.ipynb",
      "provenance": [],
      "collapsed_sections": [],
      "authorship_tag": "ABX9TyP9p4qAkNdAtypm56Bf5ksG",
      "include_colab_link": true
    },
    "kernelspec": {
      "name": "python3",
      "display_name": "Python 3"
    }
  },
  "cells": [
    {
      "cell_type": "markdown",
      "metadata": {
        "id": "view-in-github",
        "colab_type": "text"
      },
      "source": [
        "<a href=\"https://colab.research.google.com/github/PhanTheMinhChau/baitapgithubcolab/blob/main/baitaplist.ipynb\" target=\"_parent\"><img src=\"https://colab.research.google.com/assets/colab-badge.svg\" alt=\"Open In Colab\"/></a>"
      ]
    },
    {
      "cell_type": "code",
      "metadata": {
        "id": "3Q6AGajppdgA",
        "outputId": "14d8c323-0ac1-4a8a-c73d-05f0fa553524",
        "colab": {
          "base_uri": "https://localhost:8080/"
        }
      },
      "source": [
        "x = []                          #tạo biến x kiểu list rỗng\n",
        "x.append(18)                    #Thêm giá trị 18 vào x\n",
        "x.append('Huế')                 #Thêm giá trị \"Huế\" vào x\n",
        "y = [12, 45, -1, -0.56, \"abc\"]  #Tạo 1 List  y = [12, 45, -1, -0.56, \"abc\"]\n",
        "x.extend(y)                     #Thêm y vào x\n",
        "print(x)                        #Xuất giá trị của x ra màn hình\n",
        "print(x[-1:],x[:1])             #In ra màn hình giá trị của phần tử cuối cùng và phần tử đầu tiên của x\n",
        "print(x[:6])                    #In ra màn hình giá trị của phần tử đầu tiên đến phần tử thứ 5 của x\n",
        "print(x[3:])                    #In ra màn hình giá trị của phần từ thứ 3 đến cuối cùng của x\n"
      ],
      "execution_count": null,
      "outputs": [
        {
          "output_type": "stream",
          "text": [
            "[18, 'Huế', 12, 45, -1, -0.56, 'abc']\n",
            "['abc'] [18]\n",
            "[18, 'Huế', 12, 45, -1, -0.56]\n",
            "[45, -1, -0.56, 'abc']\n"
          ],
          "name": "stdout"
        }
      ]
    }
  ]
}