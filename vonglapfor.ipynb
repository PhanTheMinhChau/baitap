{
  "nbformat": 4,
  "nbformat_minor": 0,
  "metadata": {
    "colab": {
      "name": "vonglapfor.ipynb",
      "provenance": [],
      "authorship_tag": "ABX9TyP8eHMtpjZE/sd4lu4zqhjI",
      "include_colab_link": true
    },
    "kernelspec": {
      "name": "python3",
      "display_name": "Python 3"
    }
  },
  "cells": [
    {
      "cell_type": "markdown",
      "metadata": {
        "id": "view-in-github",
        "colab_type": "text"
      },
      "source": [
        "<a href=\"https://colab.research.google.com/github/PhanTheMinhChau/baitap/blob/main/vonglapfor.ipynb\" target=\"_parent\"><img src=\"https://colab.research.google.com/assets/colab-badge.svg\" alt=\"Open In Colab\"/></a>"
      ]
    },
    {
      "cell_type": "markdown",
      "metadata": {
        "id": "1uKkJV92fqIW"
      },
      "source": [
        "# **cấu trúc vòng lặp for:**"
      ]
    },
    {
      "cell_type": "markdown",
      "metadata": {
        "id": "eyEMw4JhgcBd"
      },
      "source": [
        "**for** bieng_lap **in** chuoi_lap **:**\n",
        "  ##### //khối lệnh"
      ]
    },
    {
      "cell_type": "markdown",
      "metadata": {
        "id": "50WjPF2oiZa-"
      },
      "source": [
        "**chuoi_lap**: là chuỗi cần lặp. \n",
        "\n",
        "**bien_lap**: là biến nhận giá trị của từng mục bên trong chuoi_lap trên mỗi lần lặp.\n",
        "\n",
        "**khối lệnh**: là khối lệnh để chạy trong mỗi vòng lặp."
      ]
    },
    {
      "cell_type": "markdown",
      "metadata": {
        "id": "ic9FF5wD94HC"
      },
      "source": [
        "# **ví dụ minh họa:**"
      ]
    },
    {
      "cell_type": "code",
      "metadata": {
        "id": "M5SgdKT1fkPS"
      },
      "source": [
        "# Ví dụ lặp một chuỗi\n",
        "for h in \"hello word!\":\n",
        "    print (h)"
      ],
      "execution_count": null,
      "outputs": []
    },
    {
      "cell_type": "code",
      "metadata": {
        "id": "7lh12DaHgHBt"
      },
      "source": [
        "# Ví dụ lặp một mảng\n",
        "a = [12, 54, 76,545,542,2343]\n",
        "for a in a:\n",
        "    print ( a);"
      ],
      "execution_count": null,
      "outputs": []
    },
    {
      "cell_type": "markdown",
      "metadata": {
        "id": "7zCZ18U7AGdd"
      },
      "source": [
        "# **thay đổi bước lặp:**"
      ]
    },
    {
      "cell_type": "code",
      "metadata": {
        "id": "VMj13Gg7AXLd"
      },
      "source": [
        "for i in range(0,6, 2): # thay đổi bước lặp bằng cách thay đổi giá trị \"step\" trong hàm range(start, stop[, step])\n",
        "  print(\"hello\")"
      ],
      "execution_count": null,
      "outputs": []
    }
  ]
}