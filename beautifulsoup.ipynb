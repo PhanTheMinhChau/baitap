{
  "nbformat": 4,
  "nbformat_minor": 0,
  "metadata": {
    "colab": {
      "name": "beautifulsoup.ipynb",
      "provenance": [],
      "collapsed_sections": [],
      "authorship_tag": "ABX9TyPdsDBgy1q52gdhf4FDnwBz",
      "include_colab_link": true
    },
    "kernelspec": {
      "name": "python3",
      "display_name": "Python 3"
    }
  },
  "cells": [
    {
      "cell_type": "markdown",
      "metadata": {
        "id": "view-in-github",
        "colab_type": "text"
      },
      "source": [
        "<a href=\"https://colab.research.google.com/github/PhanTheMinhChau/baitap/blob/main/beautifulsoup.ipynb\" target=\"_parent\"><img src=\"https://colab.research.google.com/assets/colab-badge.svg\" alt=\"Open In Colab\"/></a>"
      ]
    },
    {
      "cell_type": "markdown",
      "metadata": {
        "id": "bNrdxp1tbK_6"
      },
      "source": [
        "# **Web Scraping với thư viện Beautifulsoup**\r\n",
        "\r\n",
        "---"
      ]
    },
    {
      "cell_type": "markdown",
      "metadata": {
        "id": "2XB2gEkZpzSO"
      },
      "source": [
        "*khai báo thư viện:*"
      ]
    },
    {
      "cell_type": "code",
      "metadata": {
        "id": "2tiZ6xYLp3NF"
      },
      "source": [
        "from bs4 import BeautifulSoup\r\n",
        "import requests\r\n",
        "import os"
      ],
      "execution_count": 2,
      "outputs": []
    },
    {
      "cell_type": "markdown",
      "metadata": {
        "id": "0awSWwgM7VZm"
      },
      "source": [
        "### **1. Cách lấy 1 phần tử đầu tiên ra khỏi list và xóa nó khỏi list**"
      ]
    },
    {
      "cell_type": "code",
      "metadata": {
        "id": "Uou7NV0R7WE7"
      },
      "source": [
        "url_list = ['https://vtvgo.vn/kho-video.html']\r\n",
        "url = url_list.pop(0)\r\n",
        "print(url_list)"
      ],
      "execution_count": null,
      "outputs": []
    },
    {
      "cell_type": "markdown",
      "metadata": {
        "id": "3wrvSLyxcDqR"
      },
      "source": [
        "### **2. Tải url về**"
      ]
    },
    {
      "cell_type": "code",
      "metadata": {
        "id": "2H17nK9McP8I"
      },
      "source": [
        "page = requests.get(url)\r\n",
        "soup = BeautifulSoup(page.text,\"html.parser\" )\r\n",
        "html = soup.prettify()\r\n",
        "print(html)"
      ],
      "execution_count": null,
      "outputs": []
    },
    {
      "cell_type": "markdown",
      "metadata": {
        "id": "NuTR3VClcQtx"
      },
      "source": [
        "### **3. Lưu 1 html vào thư mục chỉ định**"
      ]
    },
    {
      "cell_type": "code",
      "metadata": {
        "id": "K-0XVUFecROI"
      },
      "source": [
        "f = open(\"file_html\", \"x\")\r\n",
        "f.write(html)\r\n",
        "f.close()"
      ],
      "execution_count": null,
      "outputs": []
    },
    {
      "cell_type": "markdown",
      "metadata": {
        "id": "yVl6tz_hcR8w"
      },
      "source": [
        "### **4. Cách lấy các url trong html**"
      ]
    },
    {
      "cell_type": "code",
      "metadata": {
        "id": "vOink_nRcSFp"
      },
      "source": [
        "web = requests.get(url)\r\n",
        "soup = BeautifulSoup(web.text,\"html.parser\")\r\n",
        "for u in soup.find_all(\"a\"):\r\n",
        "      link = u.get(\"href\")\r\n",
        "      url_list.append(link)\r\n",
        "print(url_list)"
      ],
      "execution_count": null,
      "outputs": []
    }
  ]
}