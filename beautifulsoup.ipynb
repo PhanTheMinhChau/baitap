{
  "nbformat": 4,
  "nbformat_minor": 0,
  "metadata": {
    "colab": {
      "name": "beautifulsoup.ipynb",
      "provenance": [],
      "collapsed_sections": [],
      "authorship_tag": "ABX9TyM3WnHttfMniLHM98tH5rNO",
      "include_colab_link": true
    },
    "kernelspec": {
      "name": "python3",
      "display_name": "Python 3"
    }
  },
  "cells": [
    {
      "cell_type": "markdown",
      "metadata": {
        "id": "view-in-github",
        "colab_type": "text"
      },
      "source": [
        "<a href=\"https://colab.research.google.com/github/PhanTheMinhChau/baitap/blob/main/beautifulsoup.ipynb\" target=\"_parent\"><img src=\"https://colab.research.google.com/assets/colab-badge.svg\" alt=\"Open In Colab\"/></a>"
      ]
    },
    {
      "cell_type": "markdown",
      "metadata": {
        "id": "bNrdxp1tbK_6"
      },
      "source": [
        "# **Web Scraping với thư viện Beautifulsoup**\r\n",
        "\r\n",
        "---"
      ]
    },
    {
      "cell_type": "markdown",
      "metadata": {
        "id": "2XB2gEkZpzSO"
      },
      "source": [
        "*khai báo thư viện:*"
      ]
    },
    {
      "cell_type": "code",
      "metadata": {
        "id": "2tiZ6xYLp3NF"
      },
      "source": [
        "from bs4 import BeautifulSoup\r\n",
        "import requests\r\n",
        "import os"
      ],
      "execution_count": 38,
      "outputs": []
    },
    {
      "cell_type": "markdown",
      "metadata": {
        "id": "0awSWwgM7VZm"
      },
      "source": [
        "### **1. Cách lấy 1 phần tử đầu tiên ra khỏi list và xóa nó khỏi list**"
      ]
    },
    {
      "cell_type": "code",
      "metadata": {
        "id": "Uou7NV0R7WE7",
        "colab": {
          "base_uri": "https://localhost:8080/"
        },
        "outputId": "ceca5127-2fd8-4021-826a-d93c87718721"
      },
      "source": [
        "url_list = ['https://vietnamnet.vn']\r\n",
        "url = url_list.pop(0)\r\n",
        "print(url_list)"
      ],
      "execution_count": 39,
      "outputs": [
        {
          "output_type": "stream",
          "text": [
            "[]\n"
          ],
          "name": "stdout"
        }
      ]
    },
    {
      "cell_type": "markdown",
      "metadata": {
        "id": "3wrvSLyxcDqR"
      },
      "source": [
        "### **2. Tải url về**"
      ]
    },
    {
      "cell_type": "code",
      "metadata": {
        "id": "2H17nK9McP8I"
      },
      "source": [
        "page = requests.get(url)\r\n",
        "soup = BeautifulSoup(page.text,\"html.parser\" )\r\n",
        "html = soup.prettify()\r\n",
        "print(html)"
      ],
      "execution_count": null,
      "outputs": []
    },
    {
      "cell_type": "markdown",
      "metadata": {
        "id": "NuTR3VClcQtx"
      },
      "source": [
        "### **3. Lưu 1 html vào thư mục chỉ định**"
      ]
    },
    {
      "cell_type": "code",
      "metadata": {
        "id": "K-0XVUFecROI"
      },
      "source": [
        "f = open(\"file_html\", \"x\")\r\n",
        "f.write(html)\r\n",
        "f.close()"
      ],
      "execution_count": null,
      "outputs": []
    },
    {
      "cell_type": "markdown",
      "metadata": {
        "id": "yVl6tz_hcR8w"
      },
      "source": [
        "### **4. Cách lấy các url trong html**"
      ]
    },
    {
      "cell_type": "code",
      "metadata": {
        "id": "vOink_nRcSFp",
        "colab": {
          "base_uri": "https://localhost:8080/"
        },
        "outputId": "8ea892fd-8571-47e7-dd46-b79fa744fb26"
      },
      "source": [
        "web = requests.get(url)\r\n",
        "soup = BeautifulSoup(web.text,\"html.parser\")\r\n",
        "for u in soup.find_all(\"a\"):\r\n",
        "      link = u.get(\"href\")\r\n",
        "      if  str(link)[0:5] == \"https\" and str(link).count(\".html\") != 0 and str(link).count(\".jpg\") == 0 and str(link).count(\".mp3\") == 0:\r\n",
        "          url_list.append(link)\r\n",
        "print(url_list)"
      ],
      "execution_count": 41,
      "outputs": [
        {
          "output_type": "stream",
          "text": [
            "['https://id.vietnamnet.vn/Home.html', 'https://infonet.vietnamnet.vn/doi-song/doi-thuong/ca-lang-o-nghe-an-keo-di-nuoc-ngoai-lam-an-gui-tien-ti-ve-xay-biet-thu-274786.html?fbclid=IwAR2d2XfTx6Yk6TUeGe1H4f9f-Uo3kO4gxwU7X7IJWr-vJFyLmhA-xVxhFUo', 'https://ictnews.vietnamnet.vn/cuoc-song-so/thu-tuong-duc-chi-trich-quyet-dinh-dinh-chi-tai-khoan-twitter-cua-tong-thong-trump-274805.html', 'https://2sao.vn/ngoc-trinh-hon-moi-be-trai-giua-su-kien-n-248349.html', 'https://2sao.vn/ngoc-trinh-hon-moi-be-trai-giua-su-kien-n-248349.html', 'https://2sao.vn/xot-xa-em-be-vung-cao-mat-do-ngau-vi-lanh-n-248380.html', 'https://tintuconline.com.vn/sao/vo-van-quang-long-chinh-thuc-len-tieng-sau-on-ao-khong-dam-ra-duong-gap-ai-n-466318.html', 'https://tintuconline.com.vn/sao/vo-van-quang-long-chinh-thuc-len-tieng-sau-on-ao-khong-dam-ra-duong-gap-ai-n-466318.html', 'https://tintuconline.com.vn/tam-su/nhin-tam-lung-tran-cua-vo-cu-chong-khien-toi-huy-hon-ngay-n-466294.html']\n"
          ],
          "name": "stdout"
        }
      ]
    }
  ]
}