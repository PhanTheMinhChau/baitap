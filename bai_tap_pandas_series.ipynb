{
  "nbformat": 4,
  "nbformat_minor": 0,
  "metadata": {
    "kernelspec": {
      "display_name": "Python 3",
      "language": "python",
      "name": "python3"
    },
    "language_info": {
      "codemirror_mode": {
        "name": "ipython",
        "version": 3
      },
      "file_extension": ".py",
      "mimetype": "text/x-python",
      "name": "python",
      "nbconvert_exporter": "python",
      "pygments_lexer": "ipython3",
      "version": "3.7.3"
    },
    "colab": {
      "name": "bai-tap-pandas-series.ipynb",
      "provenance": [],
      "include_colab_link": true
    }
  },
  "cells": [
    {
      "cell_type": "markdown",
      "metadata": {
        "id": "view-in-github",
        "colab_type": "text"
      },
      "source": [
        "<a href=\"https://colab.research.google.com/github/PhanTheMinhChau/baitap/blob/main/bai_tap_pandas_series.ipynb\" target=\"_parent\"><img src=\"https://colab.research.google.com/assets/colab-badge.svg\" alt=\"Open In Colab\"/></a>"
      ]
    },
    {
      "cell_type": "code",
      "metadata": {
        "id": "bMfWRimXd_3R"
      },
      "source": [
        "#khai báo các thư viện cần dùng: \r\n",
        "import pandas as pd\r\n",
        "import numpy as np"
      ],
      "execution_count": 36,
      "outputs": []
    },
    {
      "cell_type": "markdown",
      "metadata": {
        "id": "KjQSGOdGcmqR"
      },
      "source": [
        "Câu 1: Hãy tạo 1 đối tượng kiểu Series có tối thiểu 10 phần tử (kiểu số) với giá trị tùy ý thích của bạn. \n",
        "       In giá trị của Series đó ra màn hình"
      ]
    },
    {
      "cell_type": "code",
      "metadata": {
        "id": "pfy-epMYcmqb",
        "outputId": "7964f5c6-8ff8-4fe0-c420-4d3db64acc03",
        "colab": {
          "base_uri": "https://localhost:8080/"
        }
      },
      "source": [
        "counts = pd.Series([12, 5, 23, 48, 25, 5, 97, 22, 12, 13, 99, 320])\r\n",
        "print(counts)"
      ],
      "execution_count": 37,
      "outputs": [
        {
          "output_type": "stream",
          "text": [
            "0      12\n",
            "1       5\n",
            "2      23\n",
            "3      48\n",
            "4      25\n",
            "5       5\n",
            "6      97\n",
            "7      22\n",
            "8      12\n",
            "9      13\n",
            "10     99\n",
            "11    320\n",
            "dtype: int64\n"
          ],
          "name": "stdout"
        }
      ]
    },
    {
      "cell_type": "markdown",
      "metadata": {
        "id": "JVHkCNfIcmqc"
      },
      "source": [
        "Câu 2: Hãy tạo 1 đối tượng kiểu Series với giá trị khởi tạo hình thành từ dữ liệu kiểu Dictionary. In kết quả ra màn hình"
      ]
    },
    {
      "cell_type": "code",
      "metadata": {
        "id": "DW_hg7bFcmqc",
        "outputId": "6b671d14-3b49-4bf8-8295-7f8234313f90",
        "colab": {
          "base_uri": "https://localhost:8080/"
        }
      },
      "source": [
        "data_dict = {'Hue': 632, 'Da Nang': 1638, 'Ha Noi': 569, 'TP HCM': 115, 'Quang Nam':45, 'Quang Tri':112, 'Hai Phong':34,}\r\n",
        "data_se = pd.Series(data_dict)\r\n",
        "print(data_se)"
      ],
      "execution_count": 38,
      "outputs": [
        {
          "output_type": "stream",
          "text": [
            "Hue           632\n",
            "Da Nang      1638\n",
            "Ha Noi        569\n",
            "TP HCM        115\n",
            "Quang Nam      45\n",
            "Quang Tri     112\n",
            "Hai Phong      34\n",
            "dtype: int64\n"
          ],
          "name": "stdout"
        }
      ]
    },
    {
      "cell_type": "markdown",
      "metadata": {
        "id": "IwS5bk3Vcmqd"
      },
      "source": [
        "Câu 3: Sử dụng series ở câu 1, hãy thay đổi giá trị của cột index từ kiểu số \r\n",
        "\r\n",
        "theo kiểu ký tự với giá trị do bạn tự xác định."
      ]
    },
    {
      "cell_type": "code",
      "metadata": {
        "id": "gh4s4lmvcmqd",
        "outputId": "4d5b7717-0b64-4483-8874-c27cd98f1979",
        "colab": {
          "base_uri": "https://localhost:8080/"
        }
      },
      "source": [
        "counts2 = pd.Series(list(counts), index=['A1', 'B2', 'C1', 'D1', 'E2', 'F1', 'G2', 'H1', 'I2', 'J2', 'K1', 'L1'])\r\n",
        "print(counts2)"
      ],
      "execution_count": 39,
      "outputs": [
        {
          "output_type": "stream",
          "text": [
            "A1     12\n",
            "B2      5\n",
            "C1     23\n",
            "D1     48\n",
            "E2     25\n",
            "F1      5\n",
            "G2     97\n",
            "H1     22\n",
            "I2     12\n",
            "J2     13\n",
            "K1     99\n",
            "L1    320\n",
            "dtype: int64\n"
          ],
          "name": "stdout"
        }
      ]
    },
    {
      "cell_type": "markdown",
      "metadata": {
        "id": "aBizL3cvcmqd"
      },
      "source": [
        "Câu 4: Sử dụng series ở câu 2, hãy truy cập đến phần tử thứ 5 và in ra màn hình"
      ]
    },
    {
      "cell_type": "code",
      "metadata": {
        "id": "DYxZF7rEcmqd",
        "outputId": "db8874c5-d1c9-4e1a-c534-6daad7db2f45",
        "colab": {
          "base_uri": "https://localhost:8080/"
        }
      },
      "source": [
        "print(data_se[5])"
      ],
      "execution_count": 40,
      "outputs": [
        {
          "output_type": "stream",
          "text": [
            "112\n"
          ],
          "name": "stdout"
        }
      ]
    },
    {
      "cell_type": "markdown",
      "metadata": {
        "id": "ezUmjHhDcmqd"
      },
      "source": [
        "Câu 5: Sử dụng series ở câu 3, hãy truy cập đến 1 phần tử dựa theo chỉ số kiểu ký tự do bạn lựa chọn và in ra màn hình"
      ]
    },
    {
      "cell_type": "code",
      "metadata": {
        "id": "fpIWhqR-cmqe",
        "outputId": "ebaf18f2-03c1-4055-c7bf-b842e05c4860",
        "colab": {
          "base_uri": "https://localhost:8080/"
        }
      },
      "source": [
        "print(counts2['D1'])"
      ],
      "execution_count": 42,
      "outputs": [
        {
          "output_type": "stream",
          "text": [
            "48\n"
          ],
          "name": "stdout"
        }
      ]
    },
    {
      "cell_type": "markdown",
      "metadata": {
        "id": "MaOdyL-Xcmqe"
      },
      "source": [
        "Câu 6: Sử dụng series ở câu 3, hãy tìm ra tính chất đặc thù trong các chỉ số kiểu kí tự, thực hiện vòng lặp for duyệt trên các chỉ mục kiểu kí tự này để lọc ra những phần tử thỏa mãn điều kiện và in ra màn hình"
      ]
    },
    {
      "cell_type": "code",
      "metadata": {
        "id": "7RhLMzZrcmqe",
        "outputId": "19dab8c5-88bc-4cdf-ed28-0d27d7eb88a0",
        "colab": {
          "base_uri": "https://localhost:8080/"
        }
      },
      "source": [
        "counts2[[name.endswith('1') for name in counts2.index]]"
      ],
      "execution_count": 43,
      "outputs": [
        {
          "output_type": "execute_result",
          "data": {
            "text/plain": [
              "A1     12\n",
              "C1     23\n",
              "D1     48\n",
              "F1      5\n",
              "H1     22\n",
              "K1     99\n",
              "L1    320\n",
              "dtype: int64"
            ]
          },
          "metadata": {
            "tags": []
          },
          "execution_count": 43
        }
      ]
    },
    {
      "cell_type": "markdown",
      "metadata": {
        "id": "5XVIHlWAcmqe"
      },
      "source": [
        "Câu 7: Sử dụng series ở câu 1, hãy đổi tên cột index thành 'STT' và đặt tên cho series là 'Gia_tri'. In kết quả ra màn hình "
      ]
    },
    {
      "cell_type": "code",
      "metadata": {
        "id": "-FzviNsecmqe",
        "outputId": "4ffcbdd6-d0de-43b9-fb65-5a4de879d5db",
        "colab": {
          "base_uri": "https://localhost:8080/"
        }
      },
      "source": [
        "counts.name = \"hello\"\r\n",
        "counts.index.name = \"STT\"\r\n",
        "print(counts)"
      ],
      "execution_count": 44,
      "outputs": [
        {
          "output_type": "stream",
          "text": [
            "STT\n",
            "0      12\n",
            "1       5\n",
            "2      23\n",
            "3      48\n",
            "4      25\n",
            "5       5\n",
            "6      97\n",
            "7      22\n",
            "8      12\n",
            "9      13\n",
            "10     99\n",
            "11    320\n",
            "Name: hello, dtype: int64\n"
          ],
          "name": "stdout"
        }
      ]
    },
    {
      "cell_type": "markdown",
      "metadata": {
        "id": "4uuPzLcbcmqf"
      },
      "source": [
        "Câu 8: Hãy áp dụng hàm logarith của gói numpy với series ở câu 1 và in kết quả ra màn hình"
      ]
    },
    {
      "cell_type": "code",
      "metadata": {
        "id": "Y7BoPFNNcmqf",
        "outputId": "4f1c9642-c4a2-436b-a271-824929af2e22",
        "colab": {
          "base_uri": "https://localhost:8080/"
        }
      },
      "source": [
        "print(np.log(counts))"
      ],
      "execution_count": 45,
      "outputs": [
        {
          "output_type": "stream",
          "text": [
            "STT\n",
            "0     2.484907\n",
            "1     1.609438\n",
            "2     3.135494\n",
            "3     3.871201\n",
            "4     3.218876\n",
            "5     1.609438\n",
            "6     4.574711\n",
            "7     3.091042\n",
            "8     2.484907\n",
            "9     2.564949\n",
            "10    4.595120\n",
            "11    5.768321\n",
            "Name: hello, dtype: float64\n"
          ],
          "name": "stdout"
        }
      ]
    },
    {
      "cell_type": "markdown",
      "metadata": {
        "id": "OUK9WI_Ucmqf"
      },
      "source": [
        "Câu 9: Lọc các giá trị của series 1 > 15 và in ra màn hình"
      ]
    },
    {
      "cell_type": "code",
      "metadata": {
        "id": "JWTLMj0Ccmqf",
        "outputId": "85df7f84-9061-4dd7-a4e2-bc62218a7f20",
        "colab": {
          "base_uri": "https://localhost:8080/"
        }
      },
      "source": [
        "print(counts[counts>15])"
      ],
      "execution_count": 46,
      "outputs": [
        {
          "output_type": "stream",
          "text": [
            "STT\n",
            "2      23\n",
            "3      48\n",
            "4      25\n",
            "6      97\n",
            "7      22\n",
            "10     99\n",
            "11    320\n",
            "Name: hello, dtype: int64\n"
          ],
          "name": "stdout"
        }
      ]
    }
  ]
}