{
  "nbformat": 4,
  "nbformat_minor": 0,
  "metadata": {
    "kernelspec": {
      "display_name": "Python 3",
      "language": "python",
      "name": "python3"
    },
    "language_info": {
      "codemirror_mode": {
        "name": "ipython",
        "version": 3
      },
      "file_extension": ".py",
      "mimetype": "text/x-python",
      "name": "python",
      "nbconvert_exporter": "python",
      "pygments_lexer": "ipython3",
      "version": "3.7.3"
    },
    "colab": {
      "name": "Bản sao của huong-dan-du-lieu-ANOVA.ipynb",
      "provenance": [],
      "collapsed_sections": [],
      "include_colab_link": true
    }
  },
  "cells": [
    {
      "cell_type": "markdown",
      "metadata": {
        "id": "view-in-github",
        "colab_type": "text"
      },
      "source": [
        "<a href=\"https://colab.research.google.com/github/PhanTheMinhChau/baitap/blob/main/dulieuanova/du-lieu-anova.ipynb\" target=\"_parent\"><img src=\"https://colab.research.google.com/assets/colab-badge.svg\" alt=\"Open In Colab\"/></a>"
      ]
    },
    {
      "cell_type": "markdown",
      "metadata": {
        "id": "l_e5KuDqYhyR"
      },
      "source": [
        "DỮ LIỆU DÙNG CHO KIỂM ĐỊNH ANOVA MỘT CHIỀU\n",
        "\n",
        "ANOVA là viết tắt của Analysis of Variance. Đây là một kiểm định thống kê dùng để phân tích sự khác biệt về đại lượng trung bình của 3 nhóm phan biệt trở lên.\n",
        "\n",
        "1. Trường hợp sử dụng ANOVA một chiều\n",
        "\n",
        "ANOVA một chiều được sử dụng khi bạn thu thập dữ liệu về một biến độc lập (định tính) kiểu phân loại (categorical data) và một biến phụ thuộc kiểu định lượng. Biến độc lập phải phải có tối thiểu 3 mức (hay tối thiểu 3 nhóm hay ba phân loại tùy theo cách gọi trong từng trường hợp).\n",
        "\n",
        "ANOVA cho biết xem thử biến phụ thuộc thay đổi theo các mức độ của biến độc lập như thế nào. Ví dụ:\n",
        "\n",
        "- Biến độc lập là việc sử dụng công cụ truyền thông, và bạn gán các nhóm là thấp, trung bình và cao để tìm ra xem thử ở đây có sự khác biệt nào (tính theo giờ sử dụng) hàng đêm hay không.\n",
        "- Biến độc lập là nhãn hàng các đồ uống gồm Coke, Pepsi, Sprite, và Fanta và cố tìm xem thử có sự khác biệt nào về giá cả các đồ uống này xét theo đơn vị lon 100ml hay không.\n",
        "- Biến độc lập là các loại phân bón và bạn bón từng loại phân cho từng cánh đồng và xem xét sự khác biệt.\n"
      ]
    },
    {
      "cell_type": "code",
      "metadata": {
        "id": "egFKf3W5YhyX"
      },
      "source": [
        "import numpy as np\n",
        "import pandas as pd"
      ],
      "execution_count": 1,
      "outputs": []
    },
    {
      "cell_type": "code",
      "metadata": {
        "id": "8zMwXts3YhyY"
      },
      "source": [
        "np.random.seed(1234)\n",
        "#Xây dựng dữ liệu mô phỏng\n",
        "social_levels = ['low', 'medium', 'high']\n",
        "social_use = np.random.choice(social_levels, 100, p = [0.2, 0.5, 0.3])\n",
        "hours = np.random.choice(8, 100)"
      ],
      "execution_count": 2,
      "outputs": []
    },
    {
      "cell_type": "code",
      "metadata": {
        "id": "WnzDwfmkYhyY",
        "colab": {
          "base_uri": "https://localhost:8080/",
          "height": 402
        },
        "outputId": "7f9de592-b0c2-4e3c-a042-97ab7256e6ee"
      },
      "source": [
        "df = pd.DataFrame({'Social Use': social_use, 'Hour Use': hours})\n",
        "df"
      ],
      "execution_count": 3,
      "outputs": [
        {
          "output_type": "execute_result",
          "data": {
            "text/html": [
              "<div>\n",
              "<style scoped>\n",
              "    .dataframe tbody tr th:only-of-type {\n",
              "        vertical-align: middle;\n",
              "    }\n",
              "\n",
              "    .dataframe tbody tr th {\n",
              "        vertical-align: top;\n",
              "    }\n",
              "\n",
              "    .dataframe thead th {\n",
              "        text-align: right;\n",
              "    }\n",
              "</style>\n",
              "<table border=\"1\" class=\"dataframe\">\n",
              "  <thead>\n",
              "    <tr style=\"text-align: right;\">\n",
              "      <th></th>\n",
              "      <th>Social Use</th>\n",
              "      <th>Hour Use</th>\n",
              "    </tr>\n",
              "  </thead>\n",
              "  <tbody>\n",
              "    <tr>\n",
              "      <th>0</th>\n",
              "      <td>low</td>\n",
              "      <td>4</td>\n",
              "    </tr>\n",
              "    <tr>\n",
              "      <th>1</th>\n",
              "      <td>medium</td>\n",
              "      <td>5</td>\n",
              "    </tr>\n",
              "    <tr>\n",
              "      <th>2</th>\n",
              "      <td>medium</td>\n",
              "      <td>5</td>\n",
              "    </tr>\n",
              "    <tr>\n",
              "      <th>3</th>\n",
              "      <td>high</td>\n",
              "      <td>1</td>\n",
              "    </tr>\n",
              "    <tr>\n",
              "      <th>4</th>\n",
              "      <td>high</td>\n",
              "      <td>0</td>\n",
              "    </tr>\n",
              "    <tr>\n",
              "      <th>...</th>\n",
              "      <td>...</td>\n",
              "      <td>...</td>\n",
              "    </tr>\n",
              "    <tr>\n",
              "      <th>95</th>\n",
              "      <td>medium</td>\n",
              "      <td>1</td>\n",
              "    </tr>\n",
              "    <tr>\n",
              "      <th>96</th>\n",
              "      <td>medium</td>\n",
              "      <td>7</td>\n",
              "    </tr>\n",
              "    <tr>\n",
              "      <th>97</th>\n",
              "      <td>high</td>\n",
              "      <td>5</td>\n",
              "    </tr>\n",
              "    <tr>\n",
              "      <th>98</th>\n",
              "      <td>low</td>\n",
              "      <td>7</td>\n",
              "    </tr>\n",
              "    <tr>\n",
              "      <th>99</th>\n",
              "      <td>medium</td>\n",
              "      <td>0</td>\n",
              "    </tr>\n",
              "  </tbody>\n",
              "</table>\n",
              "<p>100 rows × 2 columns</p>\n",
              "</div>"
            ],
            "text/plain": [
              "   Social Use  Hour Use\n",
              "0         low         4\n",
              "1      medium         5\n",
              "2      medium         5\n",
              "3        high         1\n",
              "4        high         0\n",
              "..        ...       ...\n",
              "95     medium         1\n",
              "96     medium         7\n",
              "97       high         5\n",
              "98        low         7\n",
              "99     medium         0\n",
              "\n",
              "[100 rows x 2 columns]"
            ]
          },
          "metadata": {
            "tags": []
          },
          "execution_count": 3
        }
      ]
    },
    {
      "cell_type": "markdown",
      "metadata": {
        "id": "BIHk-AgHYhyZ"
      },
      "source": [
        "Bạn thấy dữ liệu mô phỏng ở trên bất hợp lý ở điểm nào? Nếu có thì bạn hãy chỉnh sửa lại"
      ]
    },
    {
      "cell_type": "markdown",
      "metadata": {
        "id": "6efFZGQHhJvw"
      },
      "source": [
        "*kích thước mỗi nhóm không đồng nhất*"
      ]
    },
    {
      "cell_type": "code",
      "metadata": {
        "id": "9dpIOvI5YhyZ",
        "colab": {
          "base_uri": "https://localhost:8080/",
          "height": 452
        },
        "outputId": "dfffbf4b-c804-4ef4-d1a1-8ed5f7cf55fa"
      },
      "source": [
        "social_levels = ['low', 'medium', 'high']\n",
        "social_use = np.random.choice(social_levels, 120)\n",
        "while list(social_use).count(\"low\") != list(social_use).count(\"medium\") or list(social_use).count(\"medium\") != list(social_use).count(\"high\"):\n",
        "  social_use = np.random.choice(social_levels, 120)\n",
        "print(list(social_use).count(\"low\")) #kích thước nhóm low\n",
        "print(list(social_use).count(\"medium\")) #kích thức nhóm medium\n",
        "print(list(social_use).count(\"high\")) #kích thước nhóm high\n",
        "hours = np.random.choice(8, 120)\n",
        "df = pd.DataFrame({'Social Use': social_use, 'Hour Use': hours})\n",
        "df"
      ],
      "execution_count": 4,
      "outputs": [
        {
          "output_type": "stream",
          "text": [
            "40\n",
            "40\n",
            "40\n"
          ],
          "name": "stdout"
        },
        {
          "output_type": "execute_result",
          "data": {
            "text/html": [
              "<div>\n",
              "<style scoped>\n",
              "    .dataframe tbody tr th:only-of-type {\n",
              "        vertical-align: middle;\n",
              "    }\n",
              "\n",
              "    .dataframe tbody tr th {\n",
              "        vertical-align: top;\n",
              "    }\n",
              "\n",
              "    .dataframe thead th {\n",
              "        text-align: right;\n",
              "    }\n",
              "</style>\n",
              "<table border=\"1\" class=\"dataframe\">\n",
              "  <thead>\n",
              "    <tr style=\"text-align: right;\">\n",
              "      <th></th>\n",
              "      <th>Social Use</th>\n",
              "      <th>Hour Use</th>\n",
              "    </tr>\n",
              "  </thead>\n",
              "  <tbody>\n",
              "    <tr>\n",
              "      <th>0</th>\n",
              "      <td>medium</td>\n",
              "      <td>0</td>\n",
              "    </tr>\n",
              "    <tr>\n",
              "      <th>1</th>\n",
              "      <td>high</td>\n",
              "      <td>7</td>\n",
              "    </tr>\n",
              "    <tr>\n",
              "      <th>2</th>\n",
              "      <td>high</td>\n",
              "      <td>4</td>\n",
              "    </tr>\n",
              "    <tr>\n",
              "      <th>3</th>\n",
              "      <td>high</td>\n",
              "      <td>6</td>\n",
              "    </tr>\n",
              "    <tr>\n",
              "      <th>4</th>\n",
              "      <td>low</td>\n",
              "      <td>7</td>\n",
              "    </tr>\n",
              "    <tr>\n",
              "      <th>...</th>\n",
              "      <td>...</td>\n",
              "      <td>...</td>\n",
              "    </tr>\n",
              "    <tr>\n",
              "      <th>115</th>\n",
              "      <td>low</td>\n",
              "      <td>5</td>\n",
              "    </tr>\n",
              "    <tr>\n",
              "      <th>116</th>\n",
              "      <td>high</td>\n",
              "      <td>5</td>\n",
              "    </tr>\n",
              "    <tr>\n",
              "      <th>117</th>\n",
              "      <td>low</td>\n",
              "      <td>7</td>\n",
              "    </tr>\n",
              "    <tr>\n",
              "      <th>118</th>\n",
              "      <td>high</td>\n",
              "      <td>7</td>\n",
              "    </tr>\n",
              "    <tr>\n",
              "      <th>119</th>\n",
              "      <td>medium</td>\n",
              "      <td>6</td>\n",
              "    </tr>\n",
              "  </tbody>\n",
              "</table>\n",
              "<p>120 rows × 2 columns</p>\n",
              "</div>"
            ],
            "text/plain": [
              "    Social Use  Hour Use\n",
              "0       medium         0\n",
              "1         high         7\n",
              "2         high         4\n",
              "3         high         6\n",
              "4          low         7\n",
              "..         ...       ...\n",
              "115        low         5\n",
              "116       high         5\n",
              "117        low         7\n",
              "118       high         7\n",
              "119     medium         6\n",
              "\n",
              "[120 rows x 2 columns]"
            ]
          },
          "metadata": {
            "tags": []
          },
          "execution_count": 4
        }
      ]
    },
    {
      "cell_type": "markdown",
      "metadata": {
        "id": "he3YlZIbYhya"
      },
      "source": [
        "Xây dựng giả thuyết\n",
        "$$H_{0}: \\mu_{1} = \\mu_{2} = ... = \\mu_{n}$$\n",
        "$$H_{a}: \\text{Tồn tại ít nhất một cặp } (\\mu_{i}, \\mu_{j}) \\text{ có giá trị khác nhau}$$"
      ]
    },
    {
      "cell_type": "markdown",
      "metadata": {
        "id": "tl7sRj6oYhya"
      },
      "source": [
        "Hãy xây dựng dữ liệu mô phỏng cho ví dụ sau:\n",
        "\n",
        "Xét điểm trung bình (GPA) của sinh viên đại học năm 1 - 2 - 3 - 4. Hay nói cách khác là chúng ta nghiên cứu về mối quan hệ giữa năm học và điểm trung bình. Như vậy chúng ta có 4 nhóm sinh viên: năm 1, năm 2, năm 3 và năm 4.\n",
        "\n",
        "* $\\mu_{1}$ : điểm trung bình của sinh viên năm 1\n",
        "* $\\mu_{2}$ : điểm trung bình của sinh viên năm 2\n",
        "* $\\mu_{3}$ : điểm trung bình của sinh viên năm 3\n",
        "* $\\mu_{4}$ : điểm trung bình của sinh viên năm 4\n",
        "\n",
        "Lưu ý: các nhóm này phải có kích thước bằng nhau; và điểm trung bình nằm trong đoạn $[0, 5]$"
      ]
    },
    {
      "cell_type": "code",
      "metadata": {
        "id": "E1ut5510Yhyd",
        "colab": {
          "base_uri": "https://localhost:8080/",
          "height": 402
        },
        "outputId": "6ba96e28-4414-4f11-f608-edd3930b6133"
      },
      "source": [
        "\n",
        "# năm 1\n",
        "point_1 = np.random.normal(loc = np.random.uniform(5) , size = 50)\n",
        "df_1 = pd.DataFrame({'group': \"năm 1\", 'point': point_1})\n",
        "# năm 2\n",
        "point_2 = np.random.normal(loc = np.random.uniform(5) , size = 50)\n",
        "df_2 = pd.DataFrame({'group': \"năm 2\", 'point': point_2})\n",
        "# năm 3\n",
        "point_3 = np.random.normal(loc = np.random.uniform(5) , size = 50)\n",
        "df_3 = pd.DataFrame({'group': \"năm 3\", 'point': point_3})\n",
        "# năm 4\n",
        "point_4 = np.random.normal(loc = np.random.uniform(5) , size = 50)\n",
        "df_4 = pd.DataFrame({'group': \"năm 4\", 'point': point_4})\n",
        "\n",
        "df = pd.concat([df_1, df_2, df_3, df_4], ignore_index=True)\n",
        "df"
      ],
      "execution_count": 5,
      "outputs": [
        {
          "output_type": "execute_result",
          "data": {
            "text/html": [
              "<div>\n",
              "<style scoped>\n",
              "    .dataframe tbody tr th:only-of-type {\n",
              "        vertical-align: middle;\n",
              "    }\n",
              "\n",
              "    .dataframe tbody tr th {\n",
              "        vertical-align: top;\n",
              "    }\n",
              "\n",
              "    .dataframe thead th {\n",
              "        text-align: right;\n",
              "    }\n",
              "</style>\n",
              "<table border=\"1\" class=\"dataframe\">\n",
              "  <thead>\n",
              "    <tr style=\"text-align: right;\">\n",
              "      <th></th>\n",
              "      <th>group</th>\n",
              "      <th>point</th>\n",
              "    </tr>\n",
              "  </thead>\n",
              "  <tbody>\n",
              "    <tr>\n",
              "      <th>0</th>\n",
              "      <td>năm 1</td>\n",
              "      <td>1.997944</td>\n",
              "    </tr>\n",
              "    <tr>\n",
              "      <th>1</th>\n",
              "      <td>năm 1</td>\n",
              "      <td>2.392643</td>\n",
              "    </tr>\n",
              "    <tr>\n",
              "      <th>2</th>\n",
              "      <td>năm 1</td>\n",
              "      <td>3.291898</td>\n",
              "    </tr>\n",
              "    <tr>\n",
              "      <th>3</th>\n",
              "      <td>năm 1</td>\n",
              "      <td>1.577175</td>\n",
              "    </tr>\n",
              "    <tr>\n",
              "      <th>4</th>\n",
              "      <td>năm 1</td>\n",
              "      <td>2.545203</td>\n",
              "    </tr>\n",
              "    <tr>\n",
              "      <th>...</th>\n",
              "      <td>...</td>\n",
              "      <td>...</td>\n",
              "    </tr>\n",
              "    <tr>\n",
              "      <th>195</th>\n",
              "      <td>năm 4</td>\n",
              "      <td>2.456547</td>\n",
              "    </tr>\n",
              "    <tr>\n",
              "      <th>196</th>\n",
              "      <td>năm 4</td>\n",
              "      <td>1.682980</td>\n",
              "    </tr>\n",
              "    <tr>\n",
              "      <th>197</th>\n",
              "      <td>năm 4</td>\n",
              "      <td>1.714243</td>\n",
              "    </tr>\n",
              "    <tr>\n",
              "      <th>198</th>\n",
              "      <td>năm 4</td>\n",
              "      <td>0.788087</td>\n",
              "    </tr>\n",
              "    <tr>\n",
              "      <th>199</th>\n",
              "      <td>năm 4</td>\n",
              "      <td>-0.224744</td>\n",
              "    </tr>\n",
              "  </tbody>\n",
              "</table>\n",
              "<p>200 rows × 2 columns</p>\n",
              "</div>"
            ],
            "text/plain": [
              "     group     point\n",
              "0    năm 1  1.997944\n",
              "1    năm 1  2.392643\n",
              "2    năm 1  3.291898\n",
              "3    năm 1  1.577175\n",
              "4    năm 1  2.545203\n",
              "..     ...       ...\n",
              "195  năm 4  2.456547\n",
              "196  năm 4  1.682980\n",
              "197  năm 4  1.714243\n",
              "198  năm 4  0.788087\n",
              "199  năm 4 -0.224744\n",
              "\n",
              "[200 rows x 2 columns]"
            ]
          },
          "metadata": {
            "tags": []
          },
          "execution_count": 5
        }
      ]
    },
    {
      "cell_type": "markdown",
      "metadata": {
        "id": "Uvxhus6lYhyf"
      },
      "source": [
        "Hãy phát biểu giả thuyết nghiên cứu cho ví dụ này"
      ]
    },
    {
      "cell_type": "markdown",
      "metadata": {
        "id": "mpLgFYJkYhyf"
      },
      "source": [
        "Phát biểu của bạn ở đây: ...\n",
        "\n",
        "$$H_{0}: \\mu_{1} = \\mu_{2} = \\mu_{3} = \\mu_{4}$$ \n",
        "\n",
        "$$H_{a}: \\text{Tồn tại ít nhất một cặp } (\\mu_{i}, \\mu_{j}) \\text{ có giá trị khác nhau}$$"
      ]
    },
    {
      "cell_type": "markdown",
      "metadata": {
        "id": "G8XKt7tjYhyg"
      },
      "source": [
        "Bài tập 2: Dựa vào hình vẽ dưới đây, hãy phát biểu về tập dữ liệu và xây dựng dữ liệu mô phỏng cho tập dữ liệu đó"
      ]
    },
    {
      "cell_type": "code",
      "metadata": {
        "id": "-Jo8uAYbYhyg",
        "colab": {
          "base_uri": "https://localhost:8080/",
          "height": 440
        },
        "outputId": "fe95dfd1-d7e9-418b-d0bd-fe741e9e5a82"
      },
      "source": [
        "from IPython.display import Image\n",
        "Image(\"https://adata.site.wesleyan.edu/files/2017/10/Pic3.png\")"
      ],
      "execution_count": 6,
      "outputs": [
        {
          "output_type": "execute_result",
          "data": {
            "image/png": "[encoded data removed]",
            "text/plain": [
              "<IPython.core.display.Image object>"
            ]
          },
          "metadata": {
            "tags": []
          },
          "execution_count": 6
        }
      ]
    },
    {
      "cell_type": "markdown",
      "metadata": {
        "id": "qdmUaoFoxQFL"
      },
      "source": [
        "$$H_{0}: \\mu_{1} = \\mu_{2} = \\mu_{3} = \\mu_{4}$$ \n",
        "\n",
        "$$H_{a}: \\text{Tồn tại ít nhất một cặp } (\\mu_{i}, \\mu_{j}) \\text{ có giá trị khác nhau}$$"
      ]
    },
    {
      "cell_type": "code",
      "metadata": {
        "id": "Ms6kdxItYhyg",
        "colab": {
          "base_uri": "https://localhost:8080/",
          "height": 402
        },
        "outputId": "0729a8a8-3a3e-4f3e-ff7c-318e7a7cedbc"
      },
      "source": [
        "# năm 1\n",
        "point_1 = np.random.choice(10, 35)\n",
        "df_1 = pd.DataFrame({'group': \"bussiness\", 'point': point_1})\n",
        "# năm 2\n",
        "point_2 = np.random.choice(10, 35)\n",
        "df_2 = pd.DataFrame({'group': \"english\", 'point': point_2})\n",
        "# năm 3\n",
        "point_3 = np.random.choice(10, 35)\n",
        "df_3 = pd.DataFrame({'group': \"math\", 'point': point_3})\n",
        "# năm 4\n",
        "point_4 = np.random.choice(10, 35)\n",
        "df_4 = pd.DataFrame({'group': \"psych\", 'point': point_4})\n",
        "\n",
        "df = pd.concat([df_1, df_2, df_3, df_4], ignore_index=True)\n",
        "df"
      ],
      "execution_count": 7,
      "outputs": [
        {
          "output_type": "execute_result",
          "data": {
            "text/html": [
              "<div>\n",
              "<style scoped>\n",
              "    .dataframe tbody tr th:only-of-type {\n",
              "        vertical-align: middle;\n",
              "    }\n",
              "\n",
              "    .dataframe tbody tr th {\n",
              "        vertical-align: top;\n",
              "    }\n",
              "\n",
              "    .dataframe thead th {\n",
              "        text-align: right;\n",
              "    }\n",
              "</style>\n",
              "<table border=\"1\" class=\"dataframe\">\n",
              "  <thead>\n",
              "    <tr style=\"text-align: right;\">\n",
              "      <th></th>\n",
              "      <th>group</th>\n",
              "      <th>point</th>\n",
              "    </tr>\n",
              "  </thead>\n",
              "  <tbody>\n",
              "    <tr>\n",
              "      <th>0</th>\n",
              "      <td>bussiness</td>\n",
              "      <td>7</td>\n",
              "    </tr>\n",
              "    <tr>\n",
              "      <th>1</th>\n",
              "      <td>bussiness</td>\n",
              "      <td>3</td>\n",
              "    </tr>\n",
              "    <tr>\n",
              "      <th>2</th>\n",
              "      <td>bussiness</td>\n",
              "      <td>6</td>\n",
              "    </tr>\n",
              "    <tr>\n",
              "      <th>3</th>\n",
              "      <td>bussiness</td>\n",
              "      <td>4</td>\n",
              "    </tr>\n",
              "    <tr>\n",
              "      <th>4</th>\n",
              "      <td>bussiness</td>\n",
              "      <td>0</td>\n",
              "    </tr>\n",
              "    <tr>\n",
              "      <th>...</th>\n",
              "      <td>...</td>\n",
              "      <td>...</td>\n",
              "    </tr>\n",
              "    <tr>\n",
              "      <th>135</th>\n",
              "      <td>psych</td>\n",
              "      <td>9</td>\n",
              "    </tr>\n",
              "    <tr>\n",
              "      <th>136</th>\n",
              "      <td>psych</td>\n",
              "      <td>0</td>\n",
              "    </tr>\n",
              "    <tr>\n",
              "      <th>137</th>\n",
              "      <td>psych</td>\n",
              "      <td>0</td>\n",
              "    </tr>\n",
              "    <tr>\n",
              "      <th>138</th>\n",
              "      <td>psych</td>\n",
              "      <td>9</td>\n",
              "    </tr>\n",
              "    <tr>\n",
              "      <th>139</th>\n",
              "      <td>psych</td>\n",
              "      <td>2</td>\n",
              "    </tr>\n",
              "  </tbody>\n",
              "</table>\n",
              "<p>140 rows × 2 columns</p>\n",
              "</div>"
            ],
            "text/plain": [
              "         group  point\n",
              "0    bussiness      7\n",
              "1    bussiness      3\n",
              "2    bussiness      6\n",
              "3    bussiness      4\n",
              "4    bussiness      0\n",
              "..         ...    ...\n",
              "135      psych      9\n",
              "136      psych      0\n",
              "137      psych      0\n",
              "138      psych      9\n",
              "139      psych      2\n",
              "\n",
              "[140 rows x 2 columns]"
            ]
          },
          "metadata": {
            "tags": []
          },
          "execution_count": 7
        }
      ]
    }
  ]
}