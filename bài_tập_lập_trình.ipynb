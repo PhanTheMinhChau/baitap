{
  "nbformat": 4,
  "nbformat_minor": 0,
  "metadata": {
    "colab": {
      "name": "bài tập lập trình.ipynb",
      "provenance": [],
      "collapsed_sections": [],
      "authorship_tag": "ABX9TyMnUqDTiRfvTHft1acsdVRI",
      "include_colab_link": true
    },
    "kernelspec": {
      "name": "python3",
      "display_name": "Python 3"
    }
  },
  "cells": [
    {
      "cell_type": "markdown",
      "metadata": {
        "id": "view-in-github",
        "colab_type": "text"
      },
      "source": [
        "<a href=\"https://colab.research.google.com/github/PhanTheMinhChau/baitap/blob/main/b%C3%A0i_t%E1%BA%ADp_l%E1%BA%ADp_tr%C3%ACnh.ipynb\" target=\"_parent\"><img src=\"https://colab.research.google.com/assets/colab-badge.svg\" alt=\"Open In Colab\"/></a>"
      ]
    },
    {
      "cell_type": "markdown",
      "metadata": {
        "id": "TDYJZlrcczdd"
      },
      "source": [
        "bài 1:"
      ]
    },
    {
      "cell_type": "code",
      "metadata": {
        "id": "I1opj6rOctZn"
      },
      "source": [
        "a= int(input(\"nhập vào số nguyên a=\"))\n",
        "b= int(input(\"nhập vào số nguyên b=\"))\n",
        "print(\"a+b=\",a+b)\n",
        "print(\"a*b=\",a*b)\n",
        "print(\"a-b=\",a-b)\n",
        "print(\"phần dư của thương hai số\",a%b)\n",
        "print(\"phần nguyên của thương hai số\", a//b)"
      ],
      "execution_count": null,
      "outputs": []
    },
    {
      "cell_type": "markdown",
      "metadata": {
        "id": "50aSwshSf_eI"
      },
      "source": [
        "bài 2;"
      ]
    },
    {
      "cell_type": "code",
      "metadata": {
        "id": "wCcDunoIcyoB"
      },
      "source": [
        "a= float(input(\"nhập vào số thực a=\"))\n",
        "b= float(input(\"nhập vào số thực b=\"))\n",
        "print(\"a+b=\",a+b)\n",
        "print(\"a*b=\",a*b)\n",
        "print(\"a-b=\",a-b)\n",
        "print(\"a/b=\",a/b )"
      ],
      "execution_count": null,
      "outputs": []
    },
    {
      "cell_type": "markdown",
      "metadata": {
        "id": "39byFq8Ngxkd"
      },
      "source": [
        "bài 3:"
      ]
    },
    {
      "cell_type": "code",
      "metadata": {
        "id": "ANlNcJDpg1KE"
      },
      "source": [
        "import math\n",
        "x = float(input(\"nhập từ bàn phím một số x \"))\n",
        "print(\"trị tuyệt đối x là\", abs(x))\n",
        "x = math.trunc(x)\n",
        "print(\"phần nguyên của x là\", math.trunc(x))\n",
        "x = float(x)\n",
        "y = float(input(\"nhập thêm số y \"))\n",
        "print(\"lũy thừa x^y = \", x**y)\n",
        "print(\"căn bậc hai của x là\", math.sqrt(x))"
      ],
      "execution_count": null,
      "outputs": []
    },
    {
      "cell_type": "markdown",
      "metadata": {
        "id": "5B82jepvd7c2"
      },
      "source": [
        "Bài 4:"
      ]
    },
    {
      "cell_type": "code",
      "metadata": {
        "id": "azm4P-3_eBBD"
      },
      "source": [
        "a = input(\"nhập số a \")\n",
        "b = input(\"nhập số b \")\n",
        "if a > b :\n",
        "   print(\"a>b\")\n",
        "if a < b :\n",
        "   print(\"a<b\")\n",
        "if a == b :\n",
        "   print(\"a=b\")"
      ],
      "execution_count": null,
      "outputs": []
    },
    {
      "cell_type": "markdown",
      "metadata": {
        "id": "qB9hwYm3fO0H"
      },
      "source": [
        "Bài 5:"
      ]
    },
    {
      "cell_type": "code",
      "metadata": {
        "id": "HiUHDxeJfQ-5"
      },
      "source": [
        "kytu = input(\"nhập chuỗi ký tự \")\n",
        "print(\"in hoa\", kytu.upper())\n",
        "print(\"in thường\", kytu.lower())"
      ],
      "execution_count": null,
      "outputs": []
    },
    {
      "cell_type": "markdown",
      "metadata": {
        "id": "i5UK6dMJggC1"
      },
      "source": [
        "Bài 6:"
      ]
    },
    {
      "cell_type": "code",
      "metadata": {
        "id": "Kn6ZnHXjgjh5"
      },
      "source": [
        "abc = \"\"\"a b c d e f\n",
        "g h i j k l\n",
        "m n o p q r\n",
        "s t u v w x\n",
        "y z \"\"\"\n",
        "print(abc)"
      ],
      "execution_count": null,
      "outputs": []
    }
  ]
}