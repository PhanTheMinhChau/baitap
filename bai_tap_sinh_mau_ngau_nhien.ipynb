{
  "nbformat": 4,
  "nbformat_minor": 0,
  "metadata": {
    "kernelspec": {
      "display_name": "Python 3",
      "language": "python",
      "name": "python3"
    },
    "language_info": {
      "codemirror_mode": {
        "name": "ipython",
        "version": 3
      },
      "file_extension": ".py",
      "mimetype": "text/x-python",
      "name": "python",
      "nbconvert_exporter": "python",
      "pygments_lexer": "ipython3",
      "version": "3.7.3"
    },
    "colab": {
      "name": "bai-tap-sinh-mau-ngau-nhien.ipynb",
      "provenance": [],
      "include_colab_link": true
    }
  },
  "cells": [
    {
      "cell_type": "markdown",
      "metadata": {
        "id": "view-in-github",
        "colab_type": "text"
      },
      "source": [
        "<a href=\"https://colab.research.google.com/github/PhanTheMinhChau/baitap/blob/master/bai_tap_sinh_mau_ngau_nhien.ipynb\" target=\"_parent\"><img src=\"https://colab.research.google.com/assets/colab-badge.svg\" alt=\"Open In Colab\"/></a>"
      ]
    },
    {
      "cell_type": "code",
      "metadata": {
        "id": "p4Pitu7cVPoH"
      },
      "source": [
        "import numpy as np"
      ],
      "execution_count": 3,
      "outputs": []
    },
    {
      "cell_type": "markdown",
      "metadata": {
        "id": "3M6ps7RcVMvn"
      },
      "source": [
        "Sử dụng thư viện Numpy\n",
        "\n",
        "1. Sinh mẫu ngẫu nhiên bằng hàm arange trong khoảng [-15, 27] với khoảng cách là 0.7 và in kết quả ra màn hình"
      ]
    },
    {
      "cell_type": "code",
      "metadata": {
        "id": "jpTP2yK4VMvp",
        "colab": {
          "base_uri": "https://localhost:8080/"
        },
        "outputId": "67cb8fa9-d9ea-4d98-efc9-93a8c794ca87"
      },
      "source": [
        "a = np.arange(-15, 27, 0.7)\n",
        "samples_1 = np.random.choice(a, 100)\n",
        "print(samples_1)"
      ],
      "execution_count": 6,
      "outputs": [
        {
          "output_type": "stream",
          "text": [
            "[  8.1  20.7   1.1  10.9  24.2 -15.   27.  -10.8  23.5  -5.2  24.2  13.7\n",
            "   4.6  17.2  24.2  -3.8  -6.6   8.1   0.4  13.7  20.7  20.7   1.8  22.8\n",
            "  20.  -12.2  -1.   15.1   8.1   8.1  11.6  21.4 -12.9   8.8  22.1 -12.9\n",
            "  21.4   1.1   8.1 -13.6  13.7   1.8  16.5  15.1  25.6   0.4  18.6  -5.9\n",
            "   8.8   8.1  17.2  26.3  19.3   1.8   8.1  11.6 -14.3  19.3  -7.3  10.2\n",
            "  14.4   0.4  19.3  20.7  26.3 -14.3 -10.8 -10.8 -12.2   3.9   5.3   1.1\n",
            "  20.7  10.2   1.8  10.9  24.2  22.8  24.2  25.6  -7.3   4.6   6.    7.4\n",
            "  27.   -6.6  19.3   7.4 -12.9   2.5  20.   -8.  -14.3   1.8   3.9  -6.6\n",
            "  11.6   1.1  10.2   8.1]\n"
          ],
          "name": "stdout"
        }
      ]
    },
    {
      "cell_type": "markdown",
      "metadata": {
        "id": "X9wYd4nZVMvq"
      },
      "source": [
        "2. Sinh mẫu ngẫu nhiên theo phân phối chuẩn với mean = 2.7 std = 1.2 và size = 40\n",
        "In kết quả ra màn hình"
      ]
    },
    {
      "cell_type": "code",
      "metadata": {
        "id": "Bm48Fvq1VMvq",
        "colab": {
          "base_uri": "https://localhost:8080/"
        },
        "outputId": "254e2e5d-4aee-4f3a-9319-4f8841f76798"
      },
      "source": [
        "mean = 2.7\n",
        "std = 1.2\n",
        "size = 40\n",
        "samples = np.random.normal(mean, std, size)\n",
        "samples"
      ],
      "execution_count": null,
      "outputs": [
        {
          "output_type": "execute_result",
          "data": {
            "text/plain": [
              "array([ 4.4569034 ,  1.81905453,  3.270939  ,  3.20004114,  1.87923393,\n",
              "        4.12468407,  2.84198825,  2.01655162,  1.95102412,  3.02806875,\n",
              "        3.28104243,  5.31343204,  2.82862786,  5.16122922,  3.08251883,\n",
              "       -0.54099975,  3.71902469,  2.06336639,  2.95927457,  2.11035284,\n",
              "        5.70167672,  5.55339002,  2.05930298,  3.24143618,  1.76937371,\n",
              "        3.41591498,  2.63045359,  3.32360505,  3.44367808,  4.63732245,\n",
              "        4.13353467,  4.04989515,  1.73292021,  1.3231983 ,  2.68839646,\n",
              "        2.2849173 ,  2.98344684,  3.59160273,  1.86031696,  3.31365983])"
            ]
          },
          "metadata": {
            "tags": []
          },
          "execution_count": 40
        }
      ]
    },
    {
      "cell_type": "markdown",
      "metadata": {
        "id": "4HbQZcs1VMvq"
      },
      "source": [
        "3. Sinh mẫu ngẫu nhiên từ vector ['Viet Nam', 'Britain', 'France', 'Russia', 'Singapore'] \n",
        "\n",
        "với kích thước là 17 theo phân phối chuẩn"
      ]
    },
    {
      "cell_type": "code",
      "metadata": {
        "id": "pbn_8KRtVMvq",
        "colab": {
          "base_uri": "https://localhost:8080/"
        },
        "outputId": "ca0c8502-2daa-48ea-fec9-0f677c1bf92f"
      },
      "source": [
        "sample_3 = np.random.choice(['Viet Nam', 'Britain', 'France', 'Russia', 'Singapore'], 17)\n",
        "print(sample_3)"
      ],
      "execution_count": null,
      "outputs": [
        {
          "output_type": "stream",
          "text": [
            "['Britain' 'Britain' 'Viet Nam' 'Singapore' 'Viet Nam' 'Singapore'\n",
            " 'France' 'France' 'Singapore' 'Viet Nam' 'Britain' 'Russia' 'Britain'\n",
            " 'France' 'Russia' 'France' 'Britain']\n"
          ],
          "name": "stdout"
        }
      ]
    },
    {
      "cell_type": "markdown",
      "metadata": {
        "id": "Eebw9ZK6VMvr"
      },
      "source": [
        "4. Sinh mẫu ngẫu nhiên ở câu 3 nhưng không theo phân phối chuẩn mà theo 1 vector đặc tả giá trị xác suất do bạn chọn"
      ]
    },
    {
      "cell_type": "code",
      "metadata": {
        "id": "sBeJDOHpVMvr",
        "colab": {
          "base_uri": "https://localhost:8080/"
        },
        "outputId": "072ebb01-2041-4a3c-e65d-5280381f999c"
      },
      "source": [
        "sample_4 = np.random.choice(['Viet Nam', 'Britain', 'France', 'Russia', 'Singapore'], 17, p = [0.2, 0.3, 0.3, 0.1,0.1])\n",
        "print(sample_4)"
      ],
      "execution_count": null,
      "outputs": [
        {
          "output_type": "stream",
          "text": [
            "['Viet Nam' 'Russia' 'Singapore' 'France' 'France' 'France' 'France'\n",
            " 'Viet Nam' 'France' 'Russia' 'Russia' 'Britain' 'Britain' 'France'\n",
            " 'Britain' 'Britain' 'Singapore']\n"
          ],
          "name": "stdout"
        }
      ]
    },
    {
      "cell_type": "markdown",
      "metadata": {
        "id": "o13Ud_GcVMvr"
      },
      "source": [
        "Sử dụng thư việc scipy.stats để sinh mẫu ngẫu nhiên\n",
        "\n",
        "1. Sinh mẫu ngẫu nhiên theo phân phối chuẩn với mean = 12.7, std = 2.6 và size = 30. In kết quả ra màn hình"
      ]
    },
    {
      "cell_type": "code",
      "metadata": {
        "id": "uWub1jgPaTqh"
      },
      "source": [
        "import scipy.stats as st"
      ],
      "execution_count": null,
      "outputs": []
    },
    {
      "cell_type": "code",
      "metadata": {
        "id": "NiIuiVeZVMvr",
        "colab": {
          "base_uri": "https://localhost:8080/"
        },
        "outputId": "d97b0ebb-7574-4587-f48c-29f66870d2c3"
      },
      "source": [
        "sample_5 = st.norm.rvs(loc = 12.7, scale = 2.6, size = 30)\n",
        "print(sample_5)"
      ],
      "execution_count": null,
      "outputs": [
        {
          "output_type": "stream",
          "text": [
            "[12.81398382 16.08765097  9.08718802 13.43564366 13.88371593  9.89043298\n",
            " 10.64807837  8.11641982 16.87904708 11.61155487 15.63117101 15.43954643\n",
            "  8.17675514 16.89948625  7.06043559 13.99477097 11.9993647   7.62622891\n",
            " 12.94276375  6.35840693 15.0997283  12.99524997 11.73700605 12.22248292\n",
            " 12.34712114 14.74324278 11.62090216 13.21084851 15.41403258 13.97837877]\n"
          ],
          "name": "stdout"
        }
      ]
    },
    {
      "cell_type": "markdown",
      "metadata": {
        "id": "InQXnwHiVMvr"
      },
      "source": [
        "2. Hãy sinh một mẫu ngẫu nhiên theo phân phối Poisson"
      ]
    },
    {
      "cell_type": "code",
      "metadata": {
        "id": "2U7hfWFpVMvs",
        "colab": {
          "base_uri": "https://localhost:8080/"
        },
        "outputId": "b9cf3ec6-7b4e-48c0-c0c1-f136ffd69a4e"
      },
      "source": [
        "sample_6 = st.poisson.rvs(loc=12.7, mu=2.6, size=30)\n",
        "print(sample_6)"
      ],
      "execution_count": null,
      "outputs": [
        {
          "output_type": "stream",
          "text": [
            "[16 16 14 13 14 15 13 15 14 15 15 16 14 14 12 16 13 16 15 14 15 12 12 13\n",
            " 14 13 15 12 17 14]\n"
          ],
          "name": "stdout"
        }
      ]
    }
  ]
}