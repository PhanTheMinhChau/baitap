{
  "nbformat": 4,
  "nbformat_minor": 0,
  "metadata": {
    "colab": {
      "name": "Numpy.ipynb",
      "provenance": [],
      "collapsed_sections": [],
      "authorship_tag": "ABX9TyMGxco/xa10R1JoFzEuEeCQ",
      "include_colab_link": true
    },
    "kernelspec": {
      "name": "python3",
      "display_name": "Python 3"
    }
  },
  "cells": [
    {
      "cell_type": "markdown",
      "metadata": {
        "id": "view-in-github",
        "colab_type": "text"
      },
      "source": [
        "<a href=\"https://colab.research.google.com/github/PhanTheMinhChau/baitap/blob/master/Numpy.ipynb\" target=\"_parent\"><img src=\"https://colab.research.google.com/assets/colab-badge.svg\" alt=\"Open In Colab\"/></a>"
      ]
    },
    {
      "cell_type": "markdown",
      "metadata": {
        "id": "k5gt-YFMPsH6"
      },
      "source": [
        "## **khai báo thư viện**"
      ]
    },
    {
      "cell_type": "code",
      "metadata": {
        "id": "yZ4m3fuANLzr"
      },
      "source": [
        "import numpy"
      ],
      "execution_count": 6,
      "outputs": []
    },
    {
      "cell_type": "markdown",
      "metadata": {
        "id": "FG7Oa93sPL8C"
      },
      "source": [
        "## **khởi tạo vector/ma trận**"
      ]
    },
    {
      "cell_type": "code",
      "metadata": {
        "id": "TaCYhJHoPKlq"
      },
      "source": [
        "a = numpy.array([[1, 6,7],[87,5,9],[7,9,0]])\r\n",
        "b = numpy.array([[2,6,7],[8,23,6],[-3,7,12]])"
      ],
      "execution_count": 8,
      "outputs": []
    },
    {
      "cell_type": "markdown",
      "metadata": {
        "id": "gQJQHCaPPeTC"
      },
      "source": [
        "## **các phép toán:**\r\n"
      ]
    },
    {
      "cell_type": "markdown",
      "metadata": {
        "id": "i-BKXU1pQKqp"
      },
      "source": [
        "ma trận chuyển vị:"
      ]
    },
    {
      "cell_type": "code",
      "metadata": {
        "colab": {
          "base_uri": "https://localhost:8080/"
        },
        "id": "weInU5LRPjB5",
        "outputId": "6e6222d9-5959-4fb9-fc91-6b55de6b89d3"
      },
      "source": [
        "t_a = numpy.transpose(a)\r\n",
        "t_b = numpy.transpose(b)\r\n",
        "print(t_a)\r\n",
        "print(t_b)"
      ],
      "execution_count": 9,
      "outputs": [
        {
          "output_type": "stream",
          "text": [
            "[[ 1 87  7]\n",
            " [ 6  5  9]\n",
            " [ 7  9  0]]\n",
            "[[ 2  8 -3]\n",
            " [ 6 23  7]\n",
            " [ 7  6 12]]\n"
          ],
          "name": "stdout"
        }
      ]
    },
    {
      "cell_type": "markdown",
      "metadata": {
        "id": "q40txxtCTN07"
      },
      "source": [
        "cộng trừ hai ma trận:"
      ]
    },
    {
      "cell_type": "code",
      "metadata": {
        "colab": {
          "base_uri": "https://localhost:8080/"
        },
        "id": "uGu53JQqTOPj",
        "outputId": "d463a1f1-523d-4f2d-a194-ad454709a3fd"
      },
      "source": [
        "c = a + b\r\n",
        "d = a - b\r\n",
        "print(c,d)"
      ],
      "execution_count": 15,
      "outputs": [
        {
          "output_type": "stream",
          "text": [
            "[[ 3 12 14]\n",
            " [95 28 15]\n",
            " [ 4 16 12]] [[ -1   0   0]\n",
            " [ 79 -18   3]\n",
            " [ 10   2 -12]]\n"
          ],
          "name": "stdout"
        }
      ]
    },
    {
      "cell_type": "markdown",
      "metadata": {
        "id": "qFASIZxyQhgK"
      },
      "source": [
        "nhân hai ma trận:"
      ]
    },
    {
      "cell_type": "code",
      "metadata": {
        "colab": {
          "base_uri": "https://localhost:8080/"
        },
        "id": "JLzT2xBNRdw1",
        "outputId": "e7f920e1-0e16-4bf2-91c2-79b82fb622c0"
      },
      "source": [
        "tich = numpy.dot(a,b)\r\n",
        "print(tich)"
      ],
      "execution_count": 10,
      "outputs": [
        {
          "output_type": "stream",
          "text": [
            "[[ 29 193 127]\n",
            " [187 700 747]\n",
            " [ 86 249 103]]\n"
          ],
          "name": "stdout"
        }
      ]
    },
    {
      "cell_type": "markdown",
      "metadata": {
        "id": "r4SrXLh0SAtr"
      },
      "source": [
        "tính ma trận ngịch đảo:"
      ]
    },
    {
      "cell_type": "code",
      "metadata": {
        "id": "Z9J0h4f6SF7D"
      },
      "source": [
        "nd_a = numpy.linalg.inv(a)\r\n",
        "nd_b = numpy.linalg.inv(b)\r\n",
        "print(nd_a)\r\n",
        "print(nd_b)"
      ],
      "execution_count": null,
      "outputs": []
    },
    {
      "cell_type": "markdown",
      "metadata": {
        "id": "EqX2It-9SWF7"
      },
      "source": [
        "Tính hạng ma trận:"
      ]
    },
    {
      "cell_type": "code",
      "metadata": {
        "id": "MqZSXj1ASYEz"
      },
      "source": [
        " rank_a = numpy.linalg.matrix_rank(a)\r\n",
        " rank_b = numpy.linalg.matrix_rank(b)\r\n",
        " print(rank_a)\r\n",
        " print(rank_b)"
      ],
      "execution_count": null,
      "outputs": []
    }
  ]
}